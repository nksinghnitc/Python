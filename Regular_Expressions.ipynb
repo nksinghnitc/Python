{
  "nbformat": 4,
  "nbformat_minor": 0,
  "metadata": {
    "colab": {
      "name": "Regular Expressions.ipynb",
      "provenance": [],
      "mount_file_id": "1TT3DS1ZDPAc1SI_OGyoSJgVNASFJUTNv",
      "authorship_tag": "ABX9TyO5lrRGZXWt/TVPlpbOMubF",
      "include_colab_link": true
    },
    "kernelspec": {
      "name": "python3",
      "display_name": "Python 3"
    }
  },
  "cells": [
    {
      "cell_type": "markdown",
      "metadata": {
        "id": "view-in-github",
        "colab_type": "text"
      },
      "source": [
        "<a href=\"https://colab.research.google.com/github/nksinghnitc/Python/blob/master/Regular_Expressions.ipynb\" target=\"_parent\"><img src=\"https://colab.research.google.com/assets/colab-badge.svg\" alt=\"Open In Colab\"/></a>"
      ]
    },
    {
      "cell_type": "code",
      "metadata": {
        "id": "_PEW4cXmK1bD",
        "colab_type": "code",
        "colab": {}
      },
      "source": [
        "Main important application areas of Regular Expression\n",
        "  1.Validation\n",
        "  2.Matching Pattern\n",
        "  3.Web Scraping\n",
        "\n",
        "Python Module for Regular Expressions : re"
      ],
      "execution_count": 0,
      "outputs": []
    },
    {
      "cell_type": "code",
      "metadata": {
        "id": "CpTp1YCeO8hJ",
        "colab_type": "code",
        "outputId": "c9568d36-8b3f-4140-fd86-9ea5edd783c9",
        "colab": {
          "base_uri": "https://localhost:8080/",
          "height": 51
        }
      },
      "source": [
        "# compile() function: It converts  a pattern into Regex object. \n",
        "import re \n",
        "pattern=re.compile('python') # for pattern 'python' Regex object got created. \n",
        "print(type(pattern))\n",
        "\n",
        "# finditer() function: It return an iterator object.\n",
        "matcher=pattern.finditer('Learning python is easy.')\n",
        "print(type(matcher))\n",
        "# start() : start index of the match.\n",
        "# end() : end+1 index of the match.\n",
        "# group() : returns matched string."
      ],
      "execution_count": 0,
      "outputs": [
        {
          "output_type": "stream",
          "text": [
            "<class '_sre.SRE_Pattern'>\n",
            "<class 'callable_iterator'>\n"
          ],
          "name": "stdout"
        }
      ]
    },
    {
      "cell_type": "code",
      "metadata": {
        "id": "tnrREOI9RL2W",
        "colab_type": "code",
        "outputId": "6d52fcf3-aca8-480e-eff2-d53f1f85840a",
        "colab": {
          "base_uri": "https://localhost:8080/",
          "height": 85
        }
      },
      "source": [
        "pattern='ab'\n",
        "string='abaababa'\n",
        "patternObj=re.compile(pattern)\n",
        "matcher=patternObj.finditer(string)\n",
        "ctr=0\n",
        "for match in matcher:\n",
        "  ctr+=1\n",
        "  print('Match is available at index ',match.start())\n",
        "print(\"Total occurence is \",ctr)"
      ],
      "execution_count": 0,
      "outputs": [
        {
          "output_type": "stream",
          "text": [
            "Match is available at index  0\n",
            "Match is available at index  3\n",
            "Match is available at index  5\n",
            "Total occurence is  3\n"
          ],
          "name": "stdout"
        }
      ]
    },
    {
      "cell_type": "code",
      "metadata": {
        "id": "IJJgOX2STcVr",
        "colab_type": "code",
        "outputId": "0c9758ad-340f-44c4-9f25-a5a0614fd3af",
        "colab": {
          "base_uri": "https://localhost:8080/",
          "height": 85
        }
      },
      "source": [
        "pattern='ab'\n",
        "string='abaababa'\n",
        "patternObj=re.compile(pattern)\n",
        "matcher=patternObj.finditer(string)\n",
        "ctr=0\n",
        "for m in matcher:\n",
        "  ctr+=1\n",
        "  print('Start:{},End:{},group:{}'.format(m.start(),m.end(),m.group()))\n",
        "print(\"Total occurence is \",ctr)"
      ],
      "execution_count": 0,
      "outputs": [
        {
          "output_type": "stream",
          "text": [
            "Start:0,End:2,group:ab\n",
            "Start:3,End:5,group:ab\n",
            "Start:5,End:7,group:ab\n",
            "Total occurence is  3\n"
          ],
          "name": "stdout"
        }
      ]
    },
    {
      "cell_type": "code",
      "metadata": {
        "id": "rxUcjVScUGLR",
        "colab_type": "code",
        "outputId": "a713c1b5-f687-419b-d8aa-d33f2c4c2d1d",
        "colab": {
          "base_uri": "https://localhost:8080/",
          "height": 85
        }
      },
      "source": [
        "pattern='ab'\n",
        "string='abaababa'\n",
        "matcher=re.finditer(pattern,string)\n",
        "ctr=0\n",
        "for m in matcher:\n",
        "  ctr+=1\n",
        "  print('Start:{},End:{},group:{}'.format(m.start(),m.end(),m.group()))\n",
        "print(\"Total occurence is \",ctr)"
      ],
      "execution_count": 0,
      "outputs": [
        {
          "output_type": "stream",
          "text": [
            "Start:0,End:2,group:ab\n",
            "Start:3,End:5,group:ab\n",
            "Start:5,End:7,group:ab\n",
            "Total occurence is  3\n"
          ],
          "name": "stdout"
        }
      ]
    },
    {
      "cell_type": "code",
      "metadata": {
        "id": "K-m2z73kUgDN",
        "colab_type": "code",
        "colab": {}
      },
      "source": [
        "Character classes:\n",
        "[abc] --> either a or b or c\n",
        "[^abc] --> except a and b and c\n",
        "[a-z] --> Any lowercase alphabet\n",
        "[A-Z] --> Any uppercase aplhabet\n",
        "[a-zA-Z] --> Any alphabet\n",
        "[0-9] --> Any digit\n",
        "[a-zA-Z0-9] --> Alphanumeric character\n",
        "[^a-zA-Z0-9] --> Special character"
      ],
      "execution_count": 0,
      "outputs": []
    },
    {
      "cell_type": "code",
      "metadata": {
        "id": "aYA81_OEUf_W",
        "colab_type": "code",
        "colab": {}
      },
      "source": [
        "import re\n",
        "matcher=re.finditer('x','a7b@k9z')\n",
        "for m in matcher:\n",
        "  print(m.start(),'......',m.group())"
      ],
      "execution_count": 0,
      "outputs": []
    },
    {
      "cell_type": "code",
      "metadata": {
        "id": "nBKRO1zZUf8U",
        "colab_type": "code",
        "outputId": "709ff7e4-562d-448c-f874-f1622d1a8ce9",
        "colab": {
          "base_uri": "https://localhost:8080/",
          "height": 102
        }
      },
      "source": [
        "import re\n",
        "matcher=re.finditer('[^abc]','a7b@k9z')\n",
        "for m in matcher:\n",
        "  print(m.start(),'......',m.group())"
      ],
      "execution_count": 0,
      "outputs": [
        {
          "output_type": "stream",
          "text": [
            "1 ...... 7\n",
            "3 ...... @\n",
            "4 ...... k\n",
            "5 ...... 9\n",
            "6 ...... z\n"
          ],
          "name": "stdout"
        }
      ]
    },
    {
      "cell_type": "code",
      "metadata": {
        "id": "N9jFBKeQUf6B",
        "colab_type": "code",
        "outputId": "e9820a64-0ca7-4082-eeba-cb8095f45dee",
        "colab": {
          "base_uri": "https://localhost:8080/",
          "height": 119
        }
      },
      "source": [
        "import re\n",
        "matcher=re.finditer('[a-zA-Z0-9]','a7b@k9z')\n",
        "for m in matcher:\n",
        "  print(m.start(),'......',m.group())"
      ],
      "execution_count": 0,
      "outputs": [
        {
          "output_type": "stream",
          "text": [
            "0 ...... a\n",
            "1 ...... 7\n",
            "2 ...... b\n",
            "4 ...... k\n",
            "5 ...... 9\n",
            "6 ...... z\n"
          ],
          "name": "stdout"
        }
      ]
    },
    {
      "cell_type": "code",
      "metadata": {
        "id": "6vmbF6XhUf2N",
        "colab_type": "code",
        "outputId": "dcb21014-dd45-40c8-c922-b4779b7ba3b7",
        "colab": {
          "base_uri": "https://localhost:8080/",
          "height": 34
        }
      },
      "source": [
        "import re\n",
        "matcher=re.finditer('[^a-zA-Z0-9]','a7b@k9z')\n",
        "for m in matcher:\n",
        "  print(m.start(),'......',m.group())"
      ],
      "execution_count": 0,
      "outputs": [
        {
          "output_type": "stream",
          "text": [
            "3 ...... @\n"
          ],
          "name": "stdout"
        }
      ]
    },
    {
      "cell_type": "code",
      "metadata": {
        "id": "jbezfCo4Ufyn",
        "colab_type": "code",
        "colab": {}
      },
      "source": [
        "Predefined Character Classes.\n",
        "\\s --> space Character\n",
        "\\S --> Except space Character\n",
        "\\d --> any digit[0-9]\n",
        "\\D --> Except digit[^0-9]\n",
        "\\w --> alphanumeric character[a-zA-Z0-9]\n",
        "\\W --> Except alphanumeric character[^a-zA-Z0-9]\n",
        ".  --> Every character"
      ],
      "execution_count": 0,
      "outputs": []
    },
    {
      "cell_type": "code",
      "metadata": {
        "id": "21B_-zEeUfp4",
        "colab_type": "code",
        "outputId": "049c0c5c-6296-491a-c279-ccd1d5c0c706",
        "colab": {
          "base_uri": "https://localhost:8080/",
          "height": 34
        }
      },
      "source": [
        "import re\n",
        "matcher=re.finditer('\\s','a7 b@k9z')\n",
        "for m in matcher:\n",
        "  print(m.start(),'......',m.group())"
      ],
      "execution_count": 0,
      "outputs": [
        {
          "output_type": "stream",
          "text": [
            "2 ......  \n"
          ],
          "name": "stdout"
        }
      ]
    },
    {
      "cell_type": "code",
      "metadata": {
        "id": "iMhZW_NYUffP",
        "colab_type": "code",
        "outputId": "5d1b2697-c560-4e15-c3ac-8871598b85a3",
        "colab": {
          "base_uri": "https://localhost:8080/",
          "height": 136
        }
      },
      "source": [
        "import re\n",
        "matcher=re.finditer('\\S','a7 b@k9z')\n",
        "for m in matcher:\n",
        "  print(m.start(),'......',m.group())"
      ],
      "execution_count": 0,
      "outputs": [
        {
          "output_type": "stream",
          "text": [
            "0 ...... a\n",
            "1 ...... 7\n",
            "3 ...... b\n",
            "4 ...... @\n",
            "5 ...... k\n",
            "6 ...... 9\n",
            "7 ...... z\n"
          ],
          "name": "stdout"
        }
      ]
    },
    {
      "cell_type": "code",
      "metadata": {
        "id": "lDGrsVA1XFjO",
        "colab_type": "code",
        "outputId": "badade16-61db-404a-a26b-042b2444d37d",
        "colab": {
          "base_uri": "https://localhost:8080/",
          "height": 51
        }
      },
      "source": [
        "import re\n",
        "matcher=re.finditer('\\d','a7 b@k9z')\n",
        "for m in matcher:\n",
        "  print(m.start(),'......',m.group())"
      ],
      "execution_count": 0,
      "outputs": [
        {
          "output_type": "stream",
          "text": [
            "1 ...... 7\n",
            "6 ...... 9\n"
          ],
          "name": "stdout"
        }
      ]
    },
    {
      "cell_type": "code",
      "metadata": {
        "id": "NADrqslmXFX8",
        "colab_type": "code",
        "outputId": "b8f5ce72-1274-4ca7-bce5-a0b4afd3bc65",
        "colab": {
          "base_uri": "https://localhost:8080/",
          "height": 119
        }
      },
      "source": [
        "import re\n",
        "matcher=re.finditer('\\D','a7 b@k9z')\n",
        "for m in matcher:\n",
        "  print(m.start(),'......',m.group())"
      ],
      "execution_count": 0,
      "outputs": [
        {
          "output_type": "stream",
          "text": [
            "0 ...... a\n",
            "2 ......  \n",
            "3 ...... b\n",
            "4 ...... @\n",
            "5 ...... k\n",
            "7 ...... z\n"
          ],
          "name": "stdout"
        }
      ]
    },
    {
      "cell_type": "code",
      "metadata": {
        "id": "GUMcHi13XFOf",
        "colab_type": "code",
        "outputId": "a37169d6-9484-4e64-cc0d-a86bdfb27411",
        "colab": {
          "base_uri": "https://localhost:8080/",
          "height": 119
        }
      },
      "source": [
        "import re\n",
        "matcher=re.finditer('\\w','a7 b@k9z')\n",
        "for m in matcher:\n",
        "  print(m.start(),'......',m.group())"
      ],
      "execution_count": 0,
      "outputs": [
        {
          "output_type": "stream",
          "text": [
            "0 ...... a\n",
            "1 ...... 7\n",
            "3 ...... b\n",
            "5 ...... k\n",
            "6 ...... 9\n",
            "7 ...... z\n"
          ],
          "name": "stdout"
        }
      ]
    },
    {
      "cell_type": "code",
      "metadata": {
        "id": "3LJk4TJ9XFHy",
        "colab_type": "code",
        "outputId": "e7253a44-ad8a-4c6d-f2b2-71ef07263d78",
        "colab": {
          "base_uri": "https://localhost:8080/",
          "height": 51
        }
      },
      "source": [
        "import re\n",
        "matcher=re.finditer('\\W','a7 b@k9z')\n",
        "for m in matcher:\n",
        "  print(m.start(),'......',m.group())"
      ],
      "execution_count": 0,
      "outputs": [
        {
          "output_type": "stream",
          "text": [
            "2 ......  \n",
            "4 ...... @\n"
          ],
          "name": "stdout"
        }
      ]
    },
    {
      "cell_type": "code",
      "metadata": {
        "id": "BHr5bqDNXceD",
        "colab_type": "code",
        "outputId": "2fac3646-739b-48ec-94e7-72f7c3037853",
        "colab": {
          "base_uri": "https://localhost:8080/",
          "height": 153
        }
      },
      "source": [
        "import re\n",
        "matcher=re.finditer('.','a7 b@k9z')\n",
        "for m in matcher:\n",
        "  print(m.start(),'......',m.group())"
      ],
      "execution_count": 0,
      "outputs": [
        {
          "output_type": "stream",
          "text": [
            "0 ...... a\n",
            "1 ...... 7\n",
            "2 ......  \n",
            "3 ...... b\n",
            "4 ...... @\n",
            "5 ...... k\n",
            "6 ...... 9\n",
            "7 ...... z\n"
          ],
          "name": "stdout"
        }
      ]
    },
    {
      "cell_type": "code",
      "metadata": {
        "id": "DkAmmWQscJ9o",
        "colab_type": "code",
        "colab": {}
      },
      "source": [
        "Quantifiers:\n",
        "a ==> all a\n",
        "a+ ==> atleast one a\n",
        "a* ==> 0 or more a\n",
        "a? ==> 0 or 1 a\n",
        "a{n} ==> exactly n number of a\n",
        "a{m,n} ==> minimum m and maximum n number of a"
      ],
      "execution_count": 0,
      "outputs": []
    },
    {
      "cell_type": "code",
      "metadata": {
        "id": "GzK822SvXcYW",
        "colab_type": "code",
        "outputId": "36daaabc-0f29-40be-88e5-289d2c4c0cea",
        "colab": {
          "base_uri": "https://localhost:8080/",
          "height": 102
        }
      },
      "source": [
        "import re\n",
        "matcher=re.finditer('a','abaabbaab')\n",
        "for m in matcher:\n",
        "  print(m.start(),'......',m.group())"
      ],
      "execution_count": 0,
      "outputs": [
        {
          "output_type": "stream",
          "text": [
            "0 ...... a\n",
            "2 ...... a\n",
            "3 ...... a\n",
            "6 ...... a\n",
            "7 ...... a\n"
          ],
          "name": "stdout"
        }
      ]
    },
    {
      "cell_type": "code",
      "metadata": {
        "id": "1bI9o_CnXcUm",
        "colab_type": "code",
        "outputId": "39a87400-8844-4d8f-f2c5-54128d992ca2",
        "colab": {
          "base_uri": "https://localhost:8080/",
          "height": 68
        }
      },
      "source": [
        "import re\n",
        "matcher=re.finditer('a+','abaabbaab')\n",
        "for m in matcher:\n",
        "  print(m.start(),'......',m.group())"
      ],
      "execution_count": 0,
      "outputs": [
        {
          "output_type": "stream",
          "text": [
            "0 ...... a\n",
            "2 ...... aa\n",
            "6 ...... aa\n"
          ],
          "name": "stdout"
        }
      ]
    },
    {
      "cell_type": "code",
      "metadata": {
        "id": "1d962M46XcRo",
        "colab_type": "code",
        "outputId": "31614f8e-ffe7-4067-a7fb-efb816edcd19",
        "colab": {
          "base_uri": "https://localhost:8080/",
          "height": 153
        }
      },
      "source": [
        "import re\n",
        "matcher=re.finditer('a*','abaabbaab')\n",
        "for m in matcher:\n",
        "  print(m.start(),'......',m.group())"
      ],
      "execution_count": 0,
      "outputs": [
        {
          "output_type": "stream",
          "text": [
            "0 ...... a\n",
            "1 ...... \n",
            "2 ...... aa\n",
            "4 ...... \n",
            "5 ...... \n",
            "6 ...... aa\n",
            "8 ...... \n",
            "9 ...... \n"
          ],
          "name": "stdout"
        }
      ]
    },
    {
      "cell_type": "code",
      "metadata": {
        "id": "OVLwB4oCaA8u",
        "colab_type": "code",
        "outputId": "bc73aa06-6cc0-4f2c-bf16-1feac7136595",
        "colab": {
          "base_uri": "https://localhost:8080/",
          "height": 187
        }
      },
      "source": [
        "import re\n",
        "matcher=re.finditer('a?','abaabbaab')\n",
        "for m in matcher:\n",
        "  print(m.start(),'......',m.group())"
      ],
      "execution_count": 0,
      "outputs": [
        {
          "output_type": "stream",
          "text": [
            "0 ...... a\n",
            "1 ...... \n",
            "2 ...... a\n",
            "3 ...... a\n",
            "4 ...... \n",
            "5 ...... \n",
            "6 ...... a\n",
            "7 ...... a\n",
            "8 ...... \n",
            "9 ...... \n"
          ],
          "name": "stdout"
        }
      ]
    },
    {
      "cell_type": "code",
      "metadata": {
        "id": "N9i4u3tCbkm0",
        "colab_type": "code",
        "outputId": "009ae225-a59f-441a-cf2b-85161a963cdd",
        "colab": {
          "base_uri": "https://localhost:8080/",
          "height": 68
        }
      },
      "source": [
        "import re\n",
        "matcher=re.finditer('a{2}','abaabbaaaab')\n",
        "for m in matcher:\n",
        "  print(m.start(),'......',m.group())"
      ],
      "execution_count": 0,
      "outputs": [
        {
          "output_type": "stream",
          "text": [
            "2 ...... aa\n",
            "6 ...... aa\n",
            "8 ...... aa\n"
          ],
          "name": "stdout"
        }
      ]
    },
    {
      "cell_type": "code",
      "metadata": {
        "id": "58bqE_yxbkif",
        "colab_type": "code",
        "outputId": "61f0e060-e801-417d-a67d-3ddc58f33b3e",
        "colab": {
          "base_uri": "https://localhost:8080/",
          "height": 34
        }
      },
      "source": [
        "import re\n",
        "matcher=re.finditer('a{3,4}','abaabbaaaaab')\n",
        "for m in matcher:\n",
        "  print(m.start(),'......',m.group())"
      ],
      "execution_count": 0,
      "outputs": [
        {
          "output_type": "stream",
          "text": [
            "6 ...... aaaa\n"
          ],
          "name": "stdout"
        }
      ]
    },
    {
      "cell_type": "code",
      "metadata": {
        "id": "m7AIcGkRbkfA",
        "colab_type": "code",
        "colab": {}
      },
      "source": [
        "Important Concepts:\n",
        "[^a] ==> except a\n",
        "^a ==> It will check whether target string starts with a or not.\n",
        "a$ ==> It will check whether target string ends with a or not. "
      ],
      "execution_count": 0,
      "outputs": []
    },
    {
      "cell_type": "code",
      "metadata": {
        "id": "NJBSbfZQdgzZ",
        "colab_type": "code",
        "outputId": "e9b35b07-1e2a-46cf-d83a-975e4579df05",
        "colab": {
          "base_uri": "https://localhost:8080/",
          "height": 34
        }
      },
      "source": [
        "import re\n",
        "matcher=re.finditer('^a','abaabbaaaaab')\n",
        "for m in matcher:\n",
        "  print(m.start(),'......',m.group())"
      ],
      "execution_count": 0,
      "outputs": [
        {
          "output_type": "stream",
          "text": [
            "0 ...... a\n"
          ],
          "name": "stdout"
        }
      ]
    },
    {
      "cell_type": "code",
      "metadata": {
        "id": "bNjbSup3dgqK",
        "colab_type": "code",
        "colab": {}
      },
      "source": [
        "import re\n",
        "matcher=re.finditer('^b','abaabbaaaaab')\n",
        "for m in matcher:\n",
        "  print(m.start(),'......',m.group())"
      ],
      "execution_count": 0,
      "outputs": []
    },
    {
      "cell_type": "code",
      "metadata": {
        "id": "omDPHxYKdm6p",
        "colab_type": "code",
        "colab": {}
      },
      "source": [
        "import re\n",
        "matcher=re.finditer('a$','abaabbaaaaab')\n",
        "for m in matcher:\n",
        "  print(m.start(),'......',m.group())"
      ],
      "execution_count": 0,
      "outputs": []
    },
    {
      "cell_type": "code",
      "metadata": {
        "id": "WHc-8gOydprG",
        "colab_type": "code",
        "outputId": "29a8268c-4dfb-4a92-cd9a-5b115dae378c",
        "colab": {
          "base_uri": "https://localhost:8080/",
          "height": 34
        }
      },
      "source": [
        "import re\n",
        "matcher=re.finditer('b$','abaabbaaaaab')\n",
        "for m in matcher:\n",
        "  print(m.start(),'......',m.group())"
      ],
      "execution_count": 0,
      "outputs": [
        {
          "output_type": "stream",
          "text": [
            "11 ...... b\n"
          ],
          "name": "stdout"
        }
      ]
    },
    {
      "cell_type": "code",
      "metadata": {
        "id": "QT8JscSYdwv1",
        "colab_type": "code",
        "colab": {}
      },
      "source": [
        "Important funtion  of re module:\n",
        "match() : To check the given pattern at begining of the target string.It True then return Macth object otherwise None.\n",
        "fullmatch() : To match pattern to total target string.\n",
        "search() : It find pattern in target string if found return first occurence else None.\n",
        "findall() : It return all matches into a list.\n",
        "finditer() : return iterable object.\n",
        "sub() : Used to substitute/replacement for the match pattern. Rturn string after replacement.\n",
        "subn() : Returns no of replacement as well in the from of tuple (string,noofsub).\n",
        "split()\n",
        "compile()"
      ],
      "execution_count": 0,
      "outputs": []
    },
    {
      "cell_type": "code",
      "metadata": {
        "id": "drCMVlAwdws2",
        "colab_type": "code",
        "outputId": "dddc50f1-4537-4a71-ca46-71a2fd7cc464",
        "colab": {
          "base_uri": "https://localhost:8080/",
          "height": 51
        }
      },
      "source": [
        "import re\n",
        "m=re.match('ab','abcdefg')\n",
        "if m!=None:\n",
        "  print(\"Match is at begining\")\n",
        "  print(m.start(),'......',m.group())\n",
        "else:\n",
        "  print(\"Match is not at begining\")"
      ],
      "execution_count": 0,
      "outputs": [
        {
          "output_type": "stream",
          "text": [
            "Match is at begining\n",
            "0 ...... ab\n"
          ],
          "name": "stdout"
        }
      ]
    },
    {
      "cell_type": "code",
      "metadata": {
        "id": "iiCyBOjxdwrR",
        "colab_type": "code",
        "outputId": "ed4bae71-f352-4c5b-9e8f-441a7170dbfe",
        "colab": {
          "base_uri": "https://localhost:8080/",
          "height": 34
        }
      },
      "source": [
        "import re\n",
        "m=re.match('ba','abcdefg')\n",
        "if m!=None:\n",
        "  print(\"Match is at begining\")\n",
        "  print(m.start(),'......',m.group())\n",
        "else:\n",
        "  print(\"Match is not at begining\")"
      ],
      "execution_count": 0,
      "outputs": [
        {
          "output_type": "stream",
          "text": [
            "Match is not at begining\n"
          ],
          "name": "stdout"
        }
      ]
    },
    {
      "cell_type": "code",
      "metadata": {
        "id": "L-2XmLpDdwnk",
        "colab_type": "code",
        "outputId": "37cbc693-ae5d-4a9b-d444-8fdbcabcdefb",
        "colab": {
          "base_uri": "https://localhost:8080/",
          "height": 51
        }
      },
      "source": [
        "import re\n",
        "m=re.fullmatch('abcdefg','abcdefg')\n",
        "if m!=None:\n",
        "  print(\"Match is at begining\")\n",
        "  print(m.start(),'......',m.group())\n",
        "else:\n",
        "  print(\"Match is not at begining\")"
      ],
      "execution_count": 0,
      "outputs": [
        {
          "output_type": "stream",
          "text": [
            "Match is at begining\n",
            "0 ...... abcdefg\n"
          ],
          "name": "stdout"
        }
      ]
    },
    {
      "cell_type": "code",
      "metadata": {
        "id": "aAkC9zkDdwkt",
        "colab_type": "code",
        "outputId": "0af6571c-6c6b-42e4-fc9e-62db72eec082",
        "colab": {
          "base_uri": "https://localhost:8080/",
          "height": 34
        }
      },
      "source": [
        "import re\n",
        "m=re.fullmatch('abcde','abcdefg')\n",
        "if m!=None:\n",
        "  print(\"Match is at begining\")\n",
        "  print(m.start(),'......',m.group())\n",
        "else:\n",
        "  print(\"Match is not at begining\")"
      ],
      "execution_count": 0,
      "outputs": [
        {
          "output_type": "stream",
          "text": [
            "Match is not at begining\n"
          ],
          "name": "stdout"
        }
      ]
    },
    {
      "cell_type": "code",
      "metadata": {
        "id": "AedMHzqOdwjW",
        "colab_type": "code",
        "outputId": "11bc25e0-78e1-46df-b573-5a0337d78f64",
        "colab": {
          "base_uri": "https://localhost:8080/",
          "height": 51
        }
      },
      "source": [
        "import re\n",
        "m=re.search('ab','ababaaacbb')\n",
        "if m!=None:\n",
        "  print(\"Match is at \")\n",
        "  print(m.start(),'......',m.group())\n",
        "else:\n",
        "  print(\"Match is not found\")"
      ],
      "execution_count": 0,
      "outputs": [
        {
          "output_type": "stream",
          "text": [
            "Match is at \n",
            "0 ...... ab\n"
          ],
          "name": "stdout"
        }
      ]
    },
    {
      "cell_type": "code",
      "metadata": {
        "id": "iX9Thu-FdwhO",
        "colab_type": "code",
        "outputId": "1a669528-cb8b-41ae-82e5-efe42326a244",
        "colab": {
          "base_uri": "https://localhost:8080/",
          "height": 34
        }
      },
      "source": [
        "import re\n",
        "m=re.search('bc','ababaaacbb')\n",
        "if m!=None:\n",
        "  print(\"Match is at \")\n",
        "  print(m.start(),'......',m.group())\n",
        "else:\n",
        "  print(\"Match is not found\")"
      ],
      "execution_count": 0,
      "outputs": [
        {
          "output_type": "stream",
          "text": [
            "Match is not found\n"
          ],
          "name": "stdout"
        }
      ]
    },
    {
      "cell_type": "code",
      "metadata": {
        "id": "bXgzBWhpdwcb",
        "colab_type": "code",
        "outputId": "dbdbde36-3021-49ba-e518-61b616078228",
        "colab": {
          "base_uri": "https://localhost:8080/",
          "height": 34
        }
      },
      "source": [
        "import re\n",
        "m=re.findall('ab','ababaaacbb')\n",
        "print(m)"
      ],
      "execution_count": 0,
      "outputs": [
        {
          "output_type": "stream",
          "text": [
            "['ab', 'ab']\n"
          ],
          "name": "stdout"
        }
      ]
    },
    {
      "cell_type": "code",
      "metadata": {
        "id": "qfHLzgKtdwY9",
        "colab_type": "code",
        "outputId": "7afb5bf6-d1c5-4f2d-d765-fd011ad690e6",
        "colab": {
          "base_uri": "https://localhost:8080/",
          "height": 34
        }
      },
      "source": [
        "import re\n",
        "m=re.findall('abc','ababaaacbb')\n",
        "print(m)"
      ],
      "execution_count": 0,
      "outputs": [
        {
          "output_type": "stream",
          "text": [
            "[]\n"
          ],
          "name": "stdout"
        }
      ]
    },
    {
      "cell_type": "code",
      "metadata": {
        "id": "wNHQ9UK6iEEw",
        "colab_type": "code",
        "outputId": "711d3fca-5cd0-4b11-d40d-028ec2f088fb",
        "colab": {
          "base_uri": "https://localhost:8080/",
          "height": 51
        }
      },
      "source": [
        "import re\n",
        "s=re.sub('\\d','','ab1a2b4aa7acbb')\n",
        "print(s)\n",
        "print(type(s))"
      ],
      "execution_count": 0,
      "outputs": [
        {
          "output_type": "stream",
          "text": [
            "ababaaacbb\n",
            "<class 'str'>\n"
          ],
          "name": "stdout"
        }
      ]
    },
    {
      "cell_type": "code",
      "metadata": {
        "id": "kl2jDnUDiECZ",
        "colab_type": "code",
        "outputId": "866607a0-9e66-49b4-d3c5-3f4d77264aaa",
        "colab": {
          "base_uri": "https://localhost:8080/",
          "height": 68
        }
      },
      "source": [
        "import re\n",
        "t=re.subn('\\d','','ab1a2b4aa7acbb')\n",
        "print(t[0])\n",
        "print(t[1])\n",
        "print(type(t))"
      ],
      "execution_count": 0,
      "outputs": [
        {
          "output_type": "stream",
          "text": [
            "ababaaacbb\n",
            "4\n",
            "<class 'tuple'>\n"
          ],
          "name": "stdout"
        }
      ]
    },
    {
      "cell_type": "code",
      "metadata": {
        "id": "nwArGwvwiD-g",
        "colab_type": "code",
        "outputId": "ad75ada8-c61a-4dbd-d90f-f68b232921a1",
        "colab": {
          "base_uri": "https://localhost:8080/",
          "height": 34
        }
      },
      "source": [
        "import re\n",
        "l=re.split('.','www.google.com')\n",
        "print(l)"
      ],
      "execution_count": 0,
      "outputs": [
        {
          "output_type": "stream",
          "text": [
            "['', '', '', '', '', '', '', '', '', '', '', '', '', '', '']\n"
          ],
          "name": "stdout"
        }
      ]
    },
    {
      "cell_type": "code",
      "metadata": {
        "id": "yJowmXvUiD8H",
        "colab_type": "code",
        "outputId": "f5065c84-f36e-46bd-ff02-af36e2c80faf",
        "colab": {
          "base_uri": "https://localhost:8080/",
          "height": 34
        }
      },
      "source": [
        "import re\n",
        "l=re.split('\\.','www.google.com')\n",
        "print(l)"
      ],
      "execution_count": 0,
      "outputs": [
        {
          "output_type": "stream",
          "text": [
            "['www', 'google', 'com']\n"
          ],
          "name": "stdout"
        }
      ]
    },
    {
      "cell_type": "code",
      "metadata": {
        "id": "f10sJIsPscTv",
        "colab_type": "code",
        "outputId": "cd41e7ad-3ba2-4c2f-ca8f-05225decd4ec",
        "colab": {
          "base_uri": "https://localhost:8080/",
          "height": 34
        }
      },
      "source": [
        "import re\n",
        "l=re.split('[.]','www.google.com')\n",
        "print(l)"
      ],
      "execution_count": 0,
      "outputs": [
        {
          "output_type": "stream",
          "text": [
            "['www', 'google', 'com']\n"
          ],
          "name": "stdout"
        }
      ]
    },
    {
      "cell_type": "code",
      "metadata": {
        "id": "4D0xi3LAiD5l",
        "colab_type": "code",
        "outputId": "8600751e-895c-46c7-c4a5-b75a8793bb4e",
        "colab": {
          "base_uri": "https://localhost:8080/",
          "height": 34
        }
      },
      "source": [
        "import re\n",
        "l=re.split('-','www-google-com')\n",
        "print(l)"
      ],
      "execution_count": 0,
      "outputs": [
        {
          "output_type": "stream",
          "text": [
            "['www', 'google', 'com']\n"
          ],
          "name": "stdout"
        }
      ]
    },
    {
      "cell_type": "code",
      "metadata": {
        "id": "XFZtTqBOiD2S",
        "colab_type": "code",
        "colab": {}
      },
      "source": [
        "re.IGNORECASE is used to ignore case inside any re method."
      ],
      "execution_count": 0,
      "outputs": []
    },
    {
      "cell_type": "code",
      "metadata": {
        "id": "EjnBUD3HiDz7",
        "colab_type": "code",
        "outputId": "5445f485-1836-4657-8779-8dd5bfd0096e",
        "colab": {
          "base_uri": "https://localhost:8080/",
          "height": 34
        }
      },
      "source": [
        "import re\n",
        "s=\"Learning python is very easy\"\n",
        "if re.search('easy$',s):\n",
        "  print(\"True\")\n",
        "else:\n",
        "  print('False')"
      ],
      "execution_count": 0,
      "outputs": [
        {
          "output_type": "stream",
          "text": [
            "True\n"
          ],
          "name": "stdout"
        }
      ]
    },
    {
      "cell_type": "code",
      "metadata": {
        "id": "LFZLsOvBiDwW",
        "colab_type": "code",
        "outputId": "fed08a83-1245-4578-861e-76524f36b14e",
        "colab": {
          "base_uri": "https://localhost:8080/",
          "height": 34
        }
      },
      "source": [
        "import re\n",
        "s=\"Learning python is very easy\"\n",
        "if re.search('Easy$',s,re.IGNORECASE):\n",
        "  print(\"True\")\n",
        "else:\n",
        "  print('False')"
      ],
      "execution_count": 0,
      "outputs": [
        {
          "output_type": "stream",
          "text": [
            "True\n"
          ],
          "name": "stdout"
        }
      ]
    },
    {
      "cell_type": "code",
      "metadata": {
        "id": "RcVIiDQFiDtQ",
        "colab_type": "code",
        "colab": {}
      },
      "source": [
        "Application of Re"
      ],
      "execution_count": 0,
      "outputs": []
    },
    {
      "cell_type": "code",
      "metadata": {
        "id": "yyhOjkv9iDrE",
        "colab_type": "code",
        "colab": {}
      },
      "source": [
        "Write a Regular Expression for All Yava language identifier.\n",
        "Rules:\n",
        "1.The allowed characters are:\n",
        "  alphabets\n",
        "  digits\n",
        "  #\n",
        "2.first character shoul be lower case symbol from a to k\n",
        "3.The second character should be any digit divisible by 3\n",
        "4.The of identifier should be at least 2"
      ],
      "execution_count": 0,
      "outputs": []
    },
    {
      "cell_type": "code",
      "metadata": {
        "id": "zEXA_AY3iDmy",
        "colab_type": "code",
        "outputId": "728972e5-4f7b-4fc4-fb90-9cda74bf6ca8",
        "colab": {
          "base_uri": "https://localhost:8080/",
          "height": 51
        }
      },
      "source": [
        "import re\n",
        "pattern='[a-k][0369][\\w#]*'\n",
        "s=input(\"Enter indentifier to validate\")\n",
        "if re.fullmatch(pattern,s):\n",
        "  print(\"Valid\")\n",
        "else:\n",
        "  print(\"Invalid\")  "
      ],
      "execution_count": 0,
      "outputs": [
        {
          "output_type": "stream",
          "text": [
            "Enter indentifier to validatez33d3\n",
            "Invalid\n"
          ],
          "name": "stdout"
        }
      ]
    },
    {
      "cell_type": "code",
      "metadata": {
        "id": "iwuyXnI5iDkJ",
        "colab_type": "code",
        "colab": {}
      },
      "source": [
        "Write a regular expression to validate phone no."
      ],
      "execution_count": 0,
      "outputs": []
    },
    {
      "cell_type": "code",
      "metadata": {
        "id": "5NTaQLuRiDgm",
        "colab_type": "code",
        "outputId": "e07b3ca4-f445-454e-8ada-a4a8298c5bea",
        "colab": {
          "base_uri": "https://localhost:8080/",
          "height": 51
        }
      },
      "source": [
        "import re\n",
        "pattern='[6-9]\\d{9}'\n",
        "s=input(\"Enter phone no\")\n",
        "if re.fullmatch(pattern,s):\n",
        "  print(\"Valid\")\n",
        "else:\n",
        "  print(\"Invalid\") "
      ],
      "execution_count": 0,
      "outputs": [
        {
          "output_type": "stream",
          "text": [
            "Enter phone no1234567890\n",
            "Invalid\n"
          ],
          "name": "stdout"
        }
      ]
    },
    {
      "cell_type": "code",
      "metadata": {
        "id": "i5Sc0NB9iDea",
        "colab_type": "code",
        "colab": {}
      },
      "source": [
        "#10 digit '[6-9]\\d{9}'\n",
        "#11 digit '[0[6-9]\\d{9}]'\n",
        "#12 digit '[91[6-9]\\d{9}]'\n",
        "#13 digit '[+91[6-9]\\d{9}]'"
      ],
      "execution_count": 0,
      "outputs": []
    },
    {
      "cell_type": "code",
      "metadata": {
        "id": "Pn4MHIE-iDXs",
        "colab_type": "code",
        "outputId": "80b833c7-c7fa-450b-f530-e8f32ec83968",
        "colab": {
          "base_uri": "https://localhost:8080/",
          "height": 51
        }
      },
      "source": [
        "import re\n",
        "pattern=r\"(\\+91)*(91)*0*[6-9]\\d{9}\"\n",
        "s=input(\"Enter phone no\")\n",
        "if re.fullmatch(pattern,s):\n",
        "  print(\"Valid\")\n",
        "else:\n",
        "  print(\"Invalid\") "
      ],
      "execution_count": 0,
      "outputs": [
        {
          "output_type": "stream",
          "text": [
            "Enter phone no70198\n",
            "Invalid\n"
          ],
          "name": "stdout"
        }
      ]
    },
    {
      "cell_type": "code",
      "metadata": {
        "id": "osf1Zfxl98kt",
        "colab_type": "code",
        "colab": {}
      },
      "source": [
        "# Validate EmailID\n",
        "import re\n",
        "def isValidEmail(s):\n",
        "    res = re.search('^\\w+([\\.-]?\\w+)*@\\w+([\\.-]?\\w+)*(\\.\\w{2,3})+$', s, re.IGNORECASE)    \n",
        "    if(res):\n",
        "        return True\n",
        "    else:\n",
        "        return False"
      ],
      "execution_count": 0,
      "outputs": []
    },
    {
      "cell_type": "code",
      "metadata": {
        "id": "O4ht_eEz-SnZ",
        "colab_type": "code",
        "outputId": "ddd9513f-4551-4b7b-803e-c0ea9fd40d2d",
        "colab": {
          "base_uri": "https://localhost:8080/",
          "height": 51
        }
      },
      "source": [
        "email=input(\"Enter emaild id : \")\n",
        "isValidEmail(email)"
      ],
      "execution_count": 0,
      "outputs": [
        {
          "output_type": "stream",
          "text": [
            "Enter emaild id : nitesh.nic@co.in\n"
          ],
          "name": "stdout"
        },
        {
          "output_type": "execute_result",
          "data": {
            "text/plain": [
              "True"
            ]
          },
          "metadata": {
            "tags": []
          },
          "execution_count": 142
        }
      ]
    },
    {
      "cell_type": "code",
      "metadata": {
        "id": "_z6NWgK6B8P3",
        "colab_type": "code",
        "colab": {}
      },
      "source": [
        "#Write a Python Program to extract all Mobile Numbers present input.txt where Numbers are mixed with Normal Text Data\n",
        "import re\n",
        "f1=open(\"input.txt\",\"r\") \n",
        "f2=open(\"output.txt\",\"w\")\n",
        "for line in f1:\n",
        "  list=re.findall(\"[7-9]\\d{9}\",line) \n",
        "  for n in list:\n",
        "    f2.write(n+\"\\n\")\n",
        "print(\"Extracted all Mobile Numbers into output.txt\")\n",
        "f1.close()\n",
        "f2.close()"
      ],
      "execution_count": 0,
      "outputs": []
    },
    {
      "cell_type": "code",
      "metadata": {
        "id": "Ufor1eJnamVT",
        "colab_type": "code",
        "colab": {
          "base_uri": "https://localhost:8080/",
          "height": 102
        },
        "outputId": "83de0010-646f-47bc-c16e-af99ed89153d"
      },
      "source": [
        "import re,urllib\n",
        "import urllib.request\n",
        "sites=\"google rediff\".split()\n",
        "print(sites)\n",
        "for s in sites:\n",
        "  print(\"Searching...\",s)\n",
        "  u=urllib.request.urlopen(\"http://\"+s+\".com\")\n",
        "  text=u.read()\n",
        "  title=re.findall(\"<title>.*</title>\",str(text),re.I)\n",
        "  print(title[0])"
      ],
      "execution_count": 144,
      "outputs": [
        {
          "output_type": "stream",
          "text": [
            "['google', 'rediff']\n",
            "Searching... google\n",
            "<title>Google</title>\n",
            "Searching... rediff\n",
            "<title>Rediff.com: News | Rediffmail | Stock Quotes | Shopping</title>\n"
          ],
          "name": "stdout"
        }
      ]
    },
    {
      "cell_type": "code",
      "metadata": {
        "id": "sRvqPQJ0bFD9",
        "colab_type": "code",
        "colab": {
          "base_uri": "https://localhost:8080/",
          "height": 204
        },
        "outputId": "c8a0f1ae-d36d-4c33-f0a2-7f279bb09119"
      },
      "source": [
        "#Program to get all Phone Numbers of redbus.in by using Web Scraping and Regular Expressions \n",
        "import re,urllib\n",
        "import urllib.request \n",
        "u=urllib.request.urlopen(\"https://www.redbus.in/info/contactus\") \n",
        "text=u.read()\n",
        "numbers=re.findall(\"[0-9-]{7}[0-9-]+\",str(text),re.I)\n",
        "for n in numbers:\n",
        "  print(n)"
      ],
      "execution_count": 145,
      "outputs": [
        {
          "output_type": "stream",
          "text": [
            "698552912\n",
            "919945600000\n",
            "919945600000\n",
            "919945600000\n",
            "919945600000\n",
            "919945600000\n",
            "919945600000\n",
            "919945600000\n",
            "919945600000\n",
            "919945600000\n",
            "919945600000\n"
          ],
          "name": "stdout"
        }
      ]
    },
    {
      "cell_type": "code",
      "metadata": {
        "id": "HJ1xXf8bcRI3",
        "colab_type": "code",
        "colab": {}
      },
      "source": [
        "Extract data from a PDF invoice"
      ],
      "execution_count": 0,
      "outputs": []
    },
    {
      "cell_type": "code",
      "metadata": {
        "id": "_VmIWWJycKNi",
        "colab_type": "code",
        "colab": {
          "base_uri": "https://localhost:8080/",
          "height": 207
        },
        "outputId": "355eee7a-4f1d-433b-d479-32f5c3c19254"
      },
      "source": [
        "!pip3 install pyPDF4"
      ],
      "execution_count": 146,
      "outputs": [
        {
          "output_type": "stream",
          "text": [
            "Collecting pyPDF4\n",
            "\u001b[?25l  Downloading https://files.pythonhosted.org/packages/4f/1f/509b44850c475c101aa5b5c9b81755cedd363389d6fbb5c53be6fa915a61/PyPDF4-1.27.0.tar.gz (63kB)\n",
            "\r\u001b[K     |█████▏                          | 10kB 16.2MB/s eta 0:00:01\r\u001b[K     |██████████▎                     | 20kB 3.0MB/s eta 0:00:01\r\u001b[K     |███████████████▍                | 30kB 4.1MB/s eta 0:00:01\r\u001b[K     |████████████████████▌           | 40kB 4.3MB/s eta 0:00:01\r\u001b[K     |█████████████████████████▋      | 51kB 3.5MB/s eta 0:00:01\r\u001b[K     |██████████████████████████████▊ | 61kB 3.9MB/s eta 0:00:01\r\u001b[K     |████████████████████████████████| 71kB 2.8MB/s \n",
            "\u001b[?25hBuilding wheels for collected packages: pyPDF4\n",
            "  Building wheel for pyPDF4 (setup.py) ... \u001b[?25l\u001b[?25hdone\n",
            "  Created wheel for pyPDF4: filename=PyPDF4-1.27.0-cp36-none-any.whl size=61249 sha256=14f009aa10bdca3cefce02477fe8060008ff5022dc3cf3fa7019f7bfe94d3a15\n",
            "  Stored in directory: /root/.cache/pip/wheels/eb/4f/15/c64d533cb496fd874f56045fe30e8cc0ac59f99ecdd718040d\n",
            "Successfully built pyPDF4\n",
            "Installing collected packages: pyPDF4\n",
            "Successfully installed pyPDF4-1.27.0\n"
          ],
          "name": "stdout"
        }
      ]
    },
    {
      "cell_type": "code",
      "metadata": {
        "id": "IsAXNfJKcKLE",
        "colab_type": "code",
        "colab": {
          "base_uri": "https://localhost:8080/",
          "height": 867
        },
        "outputId": "bef85e06-021d-4138-ca61-2616cc2d5b79"
      },
      "source": [
        "# Google \"pyPDF extract text\" ---> https://www.soudegesu.com/en/post/python/extract-text-from-pdf-with-pypdf2/\n",
        "import PyPDF4\n",
        "FILE_PATH = '/content/drive/My Drive/Python/invoice.pdf'\n",
        "with open(FILE_PATH, mode='rb') as f:\n",
        "    reader = PyPDF4.PdfFileReader(f)\n",
        "    page = reader.getPage(0)\n",
        "    print(page.extractText())"
      ],
      "execution_count": 147,
      "outputs": [
        {
          "output_type": "stream",
          "text": [
            "Invoice\n",
            "Payment is due within 30 days from date of invoice. Late payment is subject to fees of 5% per month.\n",
            "Thanks for choosing \n",
            "DEMO - Sliced Invoices\n",
            " | \n",
            "admin@slicedinvoices.com\n",
            "Page 1/1\n",
            "From:\n",
            "DEMO - Sliced Invoices\n",
            "Suite 5A-1204\n",
            "123 Somewhere Street\n",
            "Your City AZ 12345\n",
            "admin@slicedinvoices.com\n",
            "Invoice Number\n",
            "INV-3337\n",
            "Order Number\n",
            "12345\n",
            "Invoice Date\n",
            "January 25, 2016\n",
            "Due Date\n",
            "January 31, 2016\n",
            "Total Due\n",
            "$93.50\n",
            "To:\n",
            "Test Business\n",
            "123 Somewhere St\n",
            "Melbourne, VIC 3000\n",
            "test@test.com\n",
            "Hrs/Qty\n",
            "Service\n",
            "Rate/Price\n",
            "Adjust\n",
            "Sub Total\n",
            "1.00\n",
            "Web Design\n",
            "This is a sample description...\n",
            "$85.00\n",
            "0.00%\n",
            "$85.00\n",
            "Sub Total\n",
            "$85.00\n",
            "Tax\n",
            "$8.50\n",
            "Total\n",
            "$93.50\n",
            "ANZ Bank\n",
            "ACC # 1234 1234\n",
            "BSB # 4321 432\n",
            "Paid\n",
            "\n"
          ],
          "name": "stdout"
        }
      ]
    },
    {
      "cell_type": "code",
      "metadata": {
        "id": "_9BueVVccKH2",
        "colab_type": "code",
        "colab": {}
      },
      "source": [
        "import PyPDF4\n",
        "FILE_PATH = '/content/drive/My Drive/Python/invoice.pdf'\n",
        "with open(FILE_PATH, mode='rb') as f:\n",
        "    reader = PyPDF4.PdfFileReader(f)\n",
        "    page = reader.getPage(0)\n",
        "    txt = page.extractText();"
      ],
      "execution_count": 0,
      "outputs": []
    },
    {
      "cell_type": "code",
      "metadata": {
        "id": "-K4QddhycKE_",
        "colab_type": "code",
        "colab": {
          "base_uri": "https://localhost:8080/",
          "height": 34
        },
        "outputId": "5f8c16d9-7190-441e-c835-7e709a781834"
      },
      "source": [
        "m = re.findall(\"INV-[0-9]*\", txt)\n",
        "print(m)"
      ],
      "execution_count": 150,
      "outputs": [
        {
          "output_type": "stream",
          "text": [
            "['INV-3337']\n"
          ],
          "name": "stdout"
        }
      ]
    },
    {
      "cell_type": "code",
      "metadata": {
        "id": "kPADWRUxc_me",
        "colab_type": "code",
        "colab": {
          "base_uri": "https://localhost:8080/",
          "height": 34
        },
        "outputId": "0eea7d06-55d8-400e-b877-83226ccc6a5e"
      },
      "source": [
        "# extract amounts\n",
        "m = re.findall(\"\\$[0-9]*\\.[0-9]*\", txt)\n",
        "print(m)"
      ],
      "execution_count": 152,
      "outputs": [
        {
          "output_type": "stream",
          "text": [
            "['$93.50', '$85.00', '$85.00', '$85.00', '$8.50', '$93.50']\n"
          ],
          "name": "stdout"
        }
      ]
    },
    {
      "cell_type": "code",
      "metadata": {
        "id": "eCOPBGmec--F",
        "colab_type": "code",
        "colab": {
          "base_uri": "https://localhost:8080/",
          "height": 34
        },
        "outputId": "15cefc1f-9391-4229-df22-72b101871b4d"
      },
      "source": [
        "# Extract Total Due:\n",
        "m = re.findall(\"Total Due\\n\\$[0-9]*\\.[0-9]*\", txt)\n",
        "print(m)"
      ],
      "execution_count": 157,
      "outputs": [
        {
          "output_type": "stream",
          "text": [
            "['Total Due\\n$93.50']\n"
          ],
          "name": "stdout"
        }
      ]
    },
    {
      "cell_type": "code",
      "metadata": {
        "id": "kFggBYqwc-6b",
        "colab_type": "code",
        "colab": {
          "base_uri": "https://localhost:8080/",
          "height": 34
        },
        "outputId": "2dab204d-9763-42ea-9c8c-0dc1c05c6168"
      },
      "source": [
        "print(re.findall(\"\\$[0-9]*\\.[0-9]*\",m[0]))"
      ],
      "execution_count": 155,
      "outputs": [
        {
          "output_type": "stream",
          "text": [
            "['$93.50']\n"
          ],
          "name": "stdout"
        }
      ]
    },
    {
      "cell_type": "code",
      "metadata": {
        "id": "8bkKVKP7fOXS",
        "colab_type": "code",
        "colab": {}
      },
      "source": [
        "res = re.finditer('^\\w+([\\.-]?\\w+)*@\\w+([\\.-]?\\w+)*(\\.\\w{2,3})+$', txt, re.IGNORECASE) \n",
        "for m in res:\n",
        "  print(txt[m.start():m.end()])"
      ],
      "execution_count": 0,
      "outputs": []
    },
    {
      "cell_type": "code",
      "metadata": {
        "id": "pIUkrRzKc-3J",
        "colab_type": "code",
        "colab": {}
      },
      "source": [
        "Problem 3: Check if a number is a valid integer or float\n",
        "TRUE: 12, 12.5, 1e10, 1e+6, 1e-10, -2.3, -2.4e-4\n",
        "FALSE: abc, -2.4e4.5, 1b2.4\n",
        "TRICKY: Handle all the cases carefully.\n",
        "Easy problem to code. But, hard not to miss cases.\n",
        "Popular interview question to understand handling boundary cases."
      ],
      "execution_count": 0,
      "outputs": []
    },
    {
      "cell_type": "code",
      "metadata": {
        "id": "Iwq-Bclchu2X",
        "colab_type": "code",
        "colab": {}
      },
      "source": [
        "# Source: https://www.geeksforgeeks.org/check-given-string-valid-number-integer-floating-point/\n",
        "# Sometimes, reading other's code is a good way to learn.\n",
        "# Explanatory comments are very important in your code. \n",
        "# We added more comments and clearly listed cases handled for better interpretability.\n",
        "# This code elimiates each of the FALSE cases and finally limits to only TRUE cases.\n",
        "# is a valid number \n",
        "def valid_number(str): \n",
        "    i = 0\n",
        "    j = len(str) - 1\n",
        "\n",
        "    # Handling whitespaces: \"   123   \"\n",
        "    while i<len(str) and str[i] == ' ': # remove  whitespaces int he beginning\n",
        "        i += 1\n",
        "\n",
        "    while j >= 0 and str[j] == ' ': # remove whitespaces at the end\n",
        "        j -= 1\n",
        "  \n",
        "    if i > j: # if only whitespaces in the given string\n",
        "        return False\n",
        "    \n",
        "    #str[i...j] is a whitespace removed (from beginning and end) string \n",
        "  \n",
        "    # if string is of length 1 and the only \n",
        "    # character is not a digit \n",
        "    if (i == j and not(str[i] >= '0' and \n",
        "                       str[i] <= '9')): \n",
        "        return False\n",
        "  \n",
        "    \n",
        "    # If the 1st char is not '+', '-', '.' or digit \n",
        "    if (str[i] != '.' and str[i] != '+' and \n",
        "        str[i] != '-' and not(str[i] >= '0' and \n",
        "        str[i] <= '9')): \n",
        "        return False\n",
        "  \n",
        "    # To check if a '.' or 'e' is found in given \n",
        "    # string.We use this flag to make sure that \n",
        "    # either of them appear only once. \n",
        "    flagDotOrE = False\n",
        "  \n",
        "    for i in range(j + 1): \n",
        "          \n",
        "        # If any of the char does not belong to \n",
        "        # {digit, +, -,., e} \n",
        "        if (str[i] != 'e' and str[i] != '.' and \n",
        "            str[i] != '+' and str[i] != '-' and not\n",
        "           (str[i] >= '0' and str[i] <= '9')): \n",
        "            return False # \"a123\" good to write cases eliminated\n",
        "  \n",
        "        if str[i] == '.': \n",
        "            \n",
        "            # check if the char e has already \n",
        "            # occured before '.' If yes, return 0 \n",
        "            if flagDotOrE: \n",
        "                return False #\"1e2.3\", \"1.2.3\"\n",
        "            \n",
        "            if i + 1 > len(str): \n",
        "                return False # \"123.\"\n",
        "            \n",
        "            if (not(str[i + 1] >= '0' and \n",
        "                    str[i + 1] <= '9')): \n",
        "                return False # \"123a\"\n",
        "\n",
        "            flagDotOrE = True\n",
        "            \n",
        "        elif str[i] == 'e': \n",
        "              \n",
        "            # set flagDotOrE = 1 when e is encountered. \n",
        "            flagDotOrE = True\n",
        "  \n",
        "            # if there is no digit before e \n",
        "            if (not(str[i - 1] >= '0' and \n",
        "                    str[i - 1] <= '9')): \n",
        "                return False # \"e123\"\n",
        "                  \n",
        "            # if e is the last character \n",
        "            if i + 1 > len(str): \n",
        "                return False # \"123e\"\n",
        "                  \n",
        "            # if e is not followed by \n",
        "            # '+', '-' or a digit \n",
        "            if (str[i + 1] != '+' and str[i + 1] != '-' and \n",
        "               (str[i + 1] >= '0' and str[i] <= '9')): \n",
        "                return False # \"1e.\" \"1ea\"\n",
        "                  \n",
        "    # If the string skips all the \n",
        "    # above cases, it must be a numeric string \n",
        "    return True\n",
        "  "
      ],
      "execution_count": 0,
      "outputs": []
    },
    {
      "cell_type": "code",
      "metadata": {
        "id": "hYyGY1N0iBuU",
        "colab_type": "code",
        "colab": {}
      },
      "source": [
        "Problem 4: Regex matching problem\n",
        "Given a pattern(p) and a string(s), does p match s?\n",
        "examples:\n",
        "TRUE: (\"*\", \"ab\"), (\"?a\" ,\"ba\"), (\"?a\" ,\"aa\"), (\"a*\" ,\"a\")\n",
        "FALSE: (\"*a\", \"ab\"), (\"?a\" ,\"baa\"), (\"?a\" ,\"a\"), (\"a*\" ,\"ba\")\n",
        "Very popular interview question at product-based companies for SDEs.\n",
        "Small variations of this are often used in interviews\n",
        "Any suggestions?"
      ],
      "execution_count": 0,
      "outputs": []
    },
    {
      "cell_type": "code",
      "metadata": {
        "id": "MroZeUEPiScA",
        "colab_type": "code",
        "colab": {}
      },
      "source": [
        "# Handle all cases of recursion thoroughly.\n",
        "def isMatch(p,s):\n",
        "    \n",
        "    print(p,s) # print statemnt for debugging\n",
        "    \n",
        "    # boundary cases of recursion\n",
        "    if p == s:\n",
        "        return True\n",
        "    \n",
        "    if p == \"*\":\n",
        "        return True\n",
        "    \n",
        "    if p == \"\" or s == \"\":\n",
        "        return False\n",
        "    \n",
        "    # recursion case-1\n",
        "    if p[0] == s[0] or p[0] == '?':\n",
        "        return isMatch(p[1:], s[1:])\n",
        "    \n",
        "    # recursion-case-2\n",
        "    if p[0] == '*':\n",
        "        return ( isMatch( p[1:], s) or isMatch( p, s[1:]))\n",
        "    \n",
        "    # last case: if p[0] is a character\n",
        "    if  p[0] != s[0]:\n",
        "        return False;\n",
        "        "
      ],
      "execution_count": 0,
      "outputs": []
    },
    {
      "cell_type": "code",
      "metadata": {
        "id": "2A_w5sC8i1-7",
        "colab_type": "code",
        "colab": {}
      },
      "source": [
        "print(isMatch(\"*\",\"ab\"))\n",
        "print(isMatch(\"?a\" ,\"baa\"))\n",
        "print(isMatch(\"a*\" ,\"ba\"))"
      ],
      "execution_count": 0,
      "outputs": []
    },
    {
      "cell_type": "code",
      "metadata": {
        "id": "um3vrAfpi169",
        "colab_type": "code",
        "colab": {}
      },
      "source": [
        "# Worst case Time Complexity: T(n) = T(n-1) + T(n-1) = 2* T(n-1)\n",
        "# => T(n) = 0(2^n) [as shown below]"
      ],
      "execution_count": 0,
      "outputs": []
    },
    {
      "cell_type": "code",
      "metadata": {
        "id": "pF7YchJHjDEc",
        "colab_type": "code",
        "colab": {
          "base_uri": "https://localhost:8080/",
          "height": 843
        },
        "outputId": "e884baec-615d-4079-c4d5-363947b282cc"
      },
      "source": [
        "from IPython.display import Image\n",
        "Image(url= \"https://i.imgur.com/dse47H3.png\")"
      ],
      "execution_count": 170,
      "outputs": [
        {
          "output_type": "execute_result",
          "data": {
            "text/html": [
              "<img src=\"https://i.imgur.com/dse47H3.png\"/>"
            ],
            "text/plain": [
              "<IPython.core.display.Image object>"
            ]
          },
          "metadata": {
            "tags": []
          },
          "execution_count": 170
        }
      ]
    },
    {
      "cell_type": "code",
      "metadata": {
        "id": "wcDlLgsUjJCn",
        "colab_type": "code",
        "colab": {
          "base_uri": "https://localhost:8080/",
          "height": 848
        },
        "outputId": "1f8f1e9c-1b3e-40b6-8088-f2db4a0dc3f3"
      },
      "source": [
        "# Can we do better?\n",
        "Image(url= \"https://i.imgur.com/Rx6tN8a.png\")"
      ],
      "execution_count": 171,
      "outputs": [
        {
          "output_type": "execute_result",
          "data": {
            "text/html": [
              "<img src=\"https://i.imgur.com/Rx6tN8a.png\"/>"
            ],
            "text/plain": [
              "<IPython.core.display.Image object>"
            ]
          },
          "metadata": {
            "tags": []
          },
          "execution_count": 171
        }
      ]
    },
    {
      "cell_type": "code",
      "metadata": {
        "id": "NVQeZrJrjOLx",
        "colab_type": "code",
        "colab": {
          "base_uri": "https://localhost:8080/",
          "height": 846
        },
        "outputId": "7cf08393-a139-4e0c-9ae9-4c7a5e86a379"
      },
      "source": [
        "# Overlapping sub-problems: \n",
        "# Why not store solutions to already solved problems in a 2D array of [0...m-1][0...n-1]\n",
        "# Dynamic programming: Recursion + overlapping subproblems\n",
        "# We discussed this in our course when we learn back-propogation in DL.\n",
        "# DONOT need to use recursion also now. Can solve iteratively.\n",
        "Image(url= \"https://i.imgur.com/k6ZTMcm.png\")"
      ],
      "execution_count": 172,
      "outputs": [
        {
          "output_type": "execute_result",
          "data": {
            "text/html": [
              "<img src=\"https://i.imgur.com/k6ZTMcm.png\"/>"
            ],
            "text/plain": [
              "<IPython.core.display.Image object>"
            ]
          },
          "metadata": {
            "tags": []
          },
          "execution_count": 172
        }
      ]
    },
    {
      "cell_type": "code",
      "metadata": {
        "id": "woePbiW9iwuD",
        "colab_type": "code",
        "colab": {}
      },
      "source": [
        "# Source: https://leetcode.com/problems/wildcard-matching/solution/\n",
        "# GIVEN THE ABOVE INUTITON, READING THIS CODE SHOULD BE STRAIGHT FORWARD\n",
        "# Time Complx: O(m*n).\n",
        "\n",
        "# Exercise: Go through this code line by line while keeping the logic in mind!\n",
        "\n",
        "def isMatchDP(p,s):\n",
        "    s_len = len(s)\n",
        "    p_len = len(p)\n",
        "        \n",
        "    # base cases\n",
        "    if p == s or p == '*':\n",
        "        return True\n",
        "    if p == '' or s == '':\n",
        "        return False\n",
        "        \n",
        "    # init all matrix except [0][0] element as False\n",
        "    d = [ [False] * (s_len + 1) for _ in range(p_len + 1)]\n",
        "    d[0][0] = True\n",
        "        \n",
        "    # DP compute \n",
        "    for p_idx in range(1, p_len + 1):\n",
        "        \n",
        "        # the current character in the pattern is '*'\n",
        "        if p[p_idx - 1] == '*':\n",
        "            \n",
        "            s_idx = 1\n",
        "            \n",
        "            # d[p_idx - 1][s_idx - 1] is a string-pattern match \n",
        "            # on the previous step, i.e. one character before.\n",
        "            # Find the first idx in string with the previous math. \n",
        "\n",
        "            # p=abcd*  s=abcdefg\n",
        "            while not d[p_idx - 1][s_idx - 1] and s_idx < s_len + 1:\n",
        "                s_idx += 1\n",
        "                \n",
        "            # If (string) matches (pattern), \n",
        "            # when (string) matches (pattern)* as well\n",
        "            d[p_idx][s_idx - 1] = d[p_idx - 1][s_idx - 1]\n",
        "            \n",
        "            # If (string) matches (pattern), \n",
        "            # when (string)(whatever_characters) matches (pattern)* as well\n",
        "            while s_idx < s_len + 1:\n",
        "                d[p_idx][s_idx] = True\n",
        "                s_idx += 1\n",
        "                \n",
        "        # the current character in the pattern is '?'\n",
        "        elif p[p_idx - 1] == '?':\n",
        "            for s_idx in range(1, s_len + 1): \n",
        "                d[p_idx][s_idx] = d[p_idx - 1][s_idx - 1] \n",
        "        \n",
        "        # the current character in the pattern is not '*' or '?'\n",
        "        else:\n",
        "            for s_idx in range(1, s_len + 1): \n",
        "                # Match is possible if there is a previous match\n",
        "                # and current characters are the same\n",
        "                d[p_idx][s_idx] = \\\n",
        "                d[p_idx - 1][s_idx - 1] and p[p_idx - 1] == s[s_idx - 1]  \n",
        "                                                               \n",
        "        return d[p_len][s_len]"
      ],
      "execution_count": 0,
      "outputs": []
    },
    {
      "cell_type": "code",
      "metadata": {
        "id": "CTNWNkOliwk5",
        "colab_type": "code",
        "colab": {}
      },
      "source": [
        "print(isMatchDP(\"a*\" ,\"ba\"))"
      ],
      "execution_count": 0,
      "outputs": []
    }
  ]
}