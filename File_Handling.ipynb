{
  "nbformat": 4,
  "nbformat_minor": 0,
  "metadata": {
    "colab": {
      "name": "File Handling.ipynb",
      "provenance": [],
      "collapsed_sections": [],
      "authorship_tag": "ABX9TyNrg4ioEgLEmws7Fd8lE2it",
      "include_colab_link": true
    },
    "kernelspec": {
      "name": "python3",
      "display_name": "Python 3"
    }
  },
  "cells": [
    {
      "cell_type": "markdown",
      "metadata": {
        "id": "view-in-github",
        "colab_type": "text"
      },
      "source": [
        "<a href=\"https://colab.research.google.com/github/nksinghnitc/Python/blob/master/File_Handling.ipynb\" target=\"_parent\"><img src=\"https://colab.research.google.com/assets/colab-badge.svg\" alt=\"Open In Colab\"/></a>"
      ]
    },
    {
      "cell_type": "code",
      "metadata": {
        "id": "8nAaY-OhTg7S",
        "colab_type": "code",
        "colab": {}
      },
      "source": [
        "File Handling\n",
        "\n",
        "To open a file\n",
        "f=open(\"filepath\",mode)\n",
        "ex - f=open(\"abc.txt\",\"r\")\n",
        "mode of file\n",
        "r,w,a,r+,w+,a+,x\n",
        "\n",
        "r --> Open an existing file for read operation. It is default mode.If file doesn't exists then exception will raise.\n",
        "w --> Open an existing file for write opeartion. \n",
        "      It will overwrite existing data. \n",
        "      If file not found, it creates new one.\n",
        "a --> Open an existing file for append opeartion. \n",
        "      It will not overwrite existing data. \n",
        "      If file not found, it creates new one.\n",
        "\n",
        "r+ --> Read and Write opeartion.(The previous data won't be deleted.)\n",
        "\n",
        "w+ --> Write and Read Opeartion.(It will overwrite existing data.)\n",
        "\n",
        "a+ --> Append and Read Opeation.(It will not overwrite existing data.)\n",
        "\n",
        "x --> exclusive creation mode for write operation. If file exists already then Exception will occur(FileExistsError).\n",
        "\n",
        "Note: These modes are applicable for text file. \n",
        "      If we have binary files the b suffix will come with each mode i.e rb, wb, ab, r+b, w+b, a+b, xb. \n",
        "\n",
        "\n",
        "Closing of file\n",
        "f.close()\n",
        "\n",
        "File Attributes:\n",
        "\n",
        "f.name # Check for name of the file\n",
        "f.mode # Check for mode of the file\n",
        "f.closed # Check for closing of file\n",
        "\n",
        "File Methods\n",
        "\n",
        "f.readable() # Check for readable\n",
        "f.writable() # Check for writable"
      ],
      "execution_count": null,
      "outputs": []
    },
    {
      "cell_type": "code",
      "metadata": {
        "id": "LNLk7S_7eXV7",
        "colab_type": "code",
        "colab": {
          "base_uri": "https://localhost:8080/",
          "height": 102
        },
        "outputId": "f33a6907-774f-4f87-829a-a2c51fd45136"
      },
      "source": [
        "f=open(\"abc.txt\",\"w\")\n",
        "print(\"File name is\",f.name)\n",
        "print(\"File mode is\",f.mode)\n",
        "print(\"is File readable?\",f.readable())\n",
        "print(\"is File writable?\",f.writable())\n",
        "print(\"is File closed?\",f.closed)"
      ],
      "execution_count": null,
      "outputs": [
        {
          "output_type": "stream",
          "text": [
            "File name is abc.txt\n",
            "File mode is w\n",
            "is File readable? False\n",
            "is File writable? True\n",
            "is File closed? False\n"
          ],
          "name": "stdout"
        }
      ]
    },
    {
      "cell_type": "code",
      "metadata": {
        "id": "GKYLofageXS2",
        "colab_type": "code",
        "colab": {
          "base_uri": "https://localhost:8080/",
          "height": 34
        },
        "outputId": "9170bc4c-3fca-4f5e-d35e-cf82223b99fb"
      },
      "source": [
        "f.close()\n",
        "print(\"is File closed?\",f.closed)"
      ],
      "execution_count": null,
      "outputs": [
        {
          "output_type": "stream",
          "text": [
            "is File closed? True\n"
          ],
          "name": "stdout"
        }
      ]
    },
    {
      "cell_type": "code",
      "metadata": {
        "id": "KarMtvhveXQI",
        "colab_type": "code",
        "colab": {
          "base_uri": "https://localhost:8080/",
          "height": 180
        },
        "outputId": "fbaec625-4add-41c0-96b9-1325c9eda3f6"
      },
      "source": [
        "# Since here \"abcd.txt\" is not present in CWD and trying to pen it for read.\n",
        "f=open(\"abcd.txt\",\"r\")"
      ],
      "execution_count": null,
      "outputs": [
        {
          "output_type": "error",
          "ename": "FileNotFoundError",
          "evalue": "ignored",
          "traceback": [
            "\u001b[0;31m---------------------------------------------------------------------------\u001b[0m",
            "\u001b[0;31mFileNotFoundError\u001b[0m                         Traceback (most recent call last)",
            "\u001b[0;32m<ipython-input-5-390b6b3807bb>\u001b[0m in \u001b[0;36m<module>\u001b[0;34m()\u001b[0m\n\u001b[1;32m      1\u001b[0m \u001b[0;31m# Since here \"abcd.txt\" is not present in CWD and trying to pen it for read.\u001b[0m\u001b[0;34m\u001b[0m\u001b[0;34m\u001b[0m\u001b[0;34m\u001b[0m\u001b[0m\n\u001b[0;32m----> 2\u001b[0;31m \u001b[0mf\u001b[0m\u001b[0;34m=\u001b[0m\u001b[0mopen\u001b[0m\u001b[0;34m(\u001b[0m\u001b[0;34m\"abcd.txt\"\u001b[0m\u001b[0;34m,\u001b[0m\u001b[0;34m\"r\"\u001b[0m\u001b[0;34m)\u001b[0m\u001b[0;34m\u001b[0m\u001b[0;34m\u001b[0m\u001b[0m\n\u001b[0m",
            "\u001b[0;31mFileNotFoundError\u001b[0m: [Errno 2] No such file or directory: 'abcd.txt'"
          ]
        }
      ]
    },
    {
      "cell_type": "code",
      "metadata": {
        "id": "nClouqJ-Wcdj",
        "colab_type": "code",
        "colab": {
          "base_uri": "https://localhost:8080/",
          "height": 34
        },
        "outputId": "2b3f6e30-933c-4eb5-f4b9-b08c588d20fa"
      },
      "source": [
        "try:\n",
        "  f=open(\"abcd.txt\",\"r\")\n",
        "except FileNotFoundError as msg:\n",
        "  print(msg)"
      ],
      "execution_count": 1,
      "outputs": [
        {
          "output_type": "stream",
          "text": [
            "[Errno 2] No such file or directory: 'abcd.txt'\n"
          ],
          "name": "stdout"
        }
      ]
    },
    {
      "cell_type": "code",
      "metadata": {
        "id": "Z8FC6vRXeXM8",
        "colab_type": "code",
        "colab": {
          "base_uri": "https://localhost:8080/",
          "height": 102
        },
        "outputId": "f5201cb1-6f61-415e-ba40-57441a60676d"
      },
      "source": [
        "f=open(\"abcd.txt\",\"x\")\n",
        "print(\"File name is\",f.name)\n",
        "print(\"File mode is\",f.mode)\n",
        "print(\"is File readable?\",f.readable())\n",
        "print(\"is File writable?\",f.writable())\n",
        "print(\"is File closed?\",f.closed)"
      ],
      "execution_count": null,
      "outputs": [
        {
          "output_type": "stream",
          "text": [
            "File name is abcd.txt\n",
            "File mode is x\n",
            "is File readable? False\n",
            "is File writable? True\n",
            "is File closed? False\n"
          ],
          "name": "stdout"
        }
      ]
    },
    {
      "cell_type": "code",
      "metadata": {
        "id": "7kRQpqKweXH8",
        "colab_type": "code",
        "colab": {
          "base_uri": "https://localhost:8080/",
          "height": 34
        },
        "outputId": "31ed4841-8c47-4dc9-af52-a3db8d835841"
      },
      "source": [
        "f.closed"
      ],
      "execution_count": null,
      "outputs": [
        {
          "output_type": "execute_result",
          "data": {
            "text/plain": [
              "False"
            ]
          },
          "metadata": {
            "tags": []
          },
          "execution_count": 7
        }
      ]
    },
    {
      "cell_type": "code",
      "metadata": {
        "id": "ZNiI3Ji0gU-t",
        "colab_type": "code",
        "colab": {
          "base_uri": "https://localhost:8080/",
          "height": 231
        },
        "outputId": "4332b7ea-8def-42dc-ad37-0cd248bef116"
      },
      "source": [
        "f=open(\"abc.txt\",\"x\")\n",
        "print(\"File name is\",f.name)\n",
        "print(\"File mode is\",f.mode)\n",
        "print(\"is File readable?\",f.readable())\n",
        "print(\"is File writable?\",f.writable())\n",
        "print(\"is File closed?\",f.closed)"
      ],
      "execution_count": null,
      "outputs": [
        {
          "output_type": "error",
          "ename": "FileExistsError",
          "evalue": "ignored",
          "traceback": [
            "\u001b[0;31m---------------------------------------------------------------------------\u001b[0m",
            "\u001b[0;31mFileExistsError\u001b[0m                           Traceback (most recent call last)",
            "\u001b[0;32m<ipython-input-8-6daaf1a1204b>\u001b[0m in \u001b[0;36m<module>\u001b[0;34m()\u001b[0m\n\u001b[0;32m----> 1\u001b[0;31m \u001b[0mf\u001b[0m\u001b[0;34m=\u001b[0m\u001b[0mopen\u001b[0m\u001b[0;34m(\u001b[0m\u001b[0;34m\"abc.txt\"\u001b[0m\u001b[0;34m,\u001b[0m\u001b[0;34m\"x\"\u001b[0m\u001b[0;34m)\u001b[0m\u001b[0;34m\u001b[0m\u001b[0;34m\u001b[0m\u001b[0m\n\u001b[0m\u001b[1;32m      2\u001b[0m \u001b[0mprint\u001b[0m\u001b[0;34m(\u001b[0m\u001b[0;34m\"File name is\"\u001b[0m\u001b[0;34m,\u001b[0m\u001b[0mf\u001b[0m\u001b[0;34m.\u001b[0m\u001b[0mname\u001b[0m\u001b[0;34m)\u001b[0m\u001b[0;34m\u001b[0m\u001b[0;34m\u001b[0m\u001b[0m\n\u001b[1;32m      3\u001b[0m \u001b[0mprint\u001b[0m\u001b[0;34m(\u001b[0m\u001b[0;34m\"File mode is\"\u001b[0m\u001b[0;34m,\u001b[0m\u001b[0mf\u001b[0m\u001b[0;34m.\u001b[0m\u001b[0mmode\u001b[0m\u001b[0;34m)\u001b[0m\u001b[0;34m\u001b[0m\u001b[0;34m\u001b[0m\u001b[0m\n\u001b[1;32m      4\u001b[0m \u001b[0mprint\u001b[0m\u001b[0;34m(\u001b[0m\u001b[0;34m\"is File readable?\"\u001b[0m\u001b[0;34m,\u001b[0m\u001b[0mf\u001b[0m\u001b[0;34m.\u001b[0m\u001b[0mreadable\u001b[0m\u001b[0;34m(\u001b[0m\u001b[0;34m)\u001b[0m\u001b[0;34m)\u001b[0m\u001b[0;34m\u001b[0m\u001b[0;34m\u001b[0m\u001b[0m\n\u001b[1;32m      5\u001b[0m \u001b[0mprint\u001b[0m\u001b[0;34m(\u001b[0m\u001b[0;34m\"is File writable?\"\u001b[0m\u001b[0;34m,\u001b[0m\u001b[0mf\u001b[0m\u001b[0;34m.\u001b[0m\u001b[0mwritable\u001b[0m\u001b[0;34m(\u001b[0m\u001b[0;34m)\u001b[0m\u001b[0;34m)\u001b[0m\u001b[0;34m\u001b[0m\u001b[0;34m\u001b[0m\u001b[0m\n",
            "\u001b[0;31mFileExistsError\u001b[0m: [Errno 17] File exists: 'abc.txt'"
          ]
        }
      ]
    },
    {
      "cell_type": "code",
      "metadata": {
        "id": "Cq-ueXtigafp",
        "colab_type": "code",
        "colab": {}
      },
      "source": [
        "Writing data to text files:\n",
        "\n",
        "f.write(str)\n",
        "f.writelines(list of lines)"
      ],
      "execution_count": null,
      "outputs": []
    },
    {
      "cell_type": "code",
      "metadata": {
        "id": "-PiWHwS6gacX",
        "colab_type": "code",
        "colab": {
          "base_uri": "https://localhost:8080/",
          "height": 34
        },
        "outputId": "6eabefcb-b46b-492f-ebc7-a84dd852fb34"
      },
      "source": [
        "f=open(\"abc.txt\",\"w\")\n",
        "f.write(\"Nitesh\\n\")\n",
        "f.write(\"Kumar\\n\")\n",
        "f.write(\"Singh\\n\")\n",
        "print(\"Data written successfully\")"
      ],
      "execution_count": 2,
      "outputs": [
        {
          "output_type": "stream",
          "text": [
            "Data written successfully\n"
          ],
          "name": "stdout"
        }
      ]
    },
    {
      "cell_type": "code",
      "metadata": {
        "id": "MAqxDVTZXxYP",
        "colab_type": "code",
        "colab": {
          "base_uri": "https://localhost:8080/",
          "height": 85
        },
        "outputId": "cb32d2cc-05ce-41d2-a5dd-a23e01c884bd"
      },
      "source": [
        "f=open(\"abc.txt\",\"r\")\n",
        "print(f.read())"
      ],
      "execution_count": 4,
      "outputs": [
        {
          "output_type": "stream",
          "text": [
            "Nitesh\n",
            "Kumar\n",
            "Singh\n",
            "\n"
          ],
          "name": "stdout"
        }
      ]
    },
    {
      "cell_type": "code",
      "metadata": {
        "id": "Skwx2D-qgaYC",
        "colab_type": "code",
        "colab": {
          "base_uri": "https://localhost:8080/",
          "height": 34
        },
        "outputId": "2b2ce136-b95d-42d7-d8f9-8f2dff954039"
      },
      "source": [
        "f=open(\"abc.txt\",\"w\")\n",
        "f.write(\"Nitesh\\n\")\n",
        "f.write(\"Kumar\\n\")\n",
        "f.write(\"Singh\\n\")\n",
        "print(\"Data written successfully\")"
      ],
      "execution_count": 5,
      "outputs": [
        {
          "output_type": "stream",
          "text": [
            "Data written successfully\n"
          ],
          "name": "stdout"
        }
      ]
    },
    {
      "cell_type": "code",
      "metadata": {
        "id": "p0s-2jp9X6Qo",
        "colab_type": "code",
        "colab": {
          "base_uri": "https://localhost:8080/",
          "height": 85
        },
        "outputId": "1c7d8974-a3f0-4915-b269-31ff87a5c21d"
      },
      "source": [
        "f=open(\"abc.txt\",\"r\")\n",
        "print(f.read())"
      ],
      "execution_count": 6,
      "outputs": [
        {
          "output_type": "stream",
          "text": [
            "Nitesh\n",
            "Kumar\n",
            "Singh\n",
            "\n"
          ],
          "name": "stdout"
        }
      ]
    },
    {
      "cell_type": "code",
      "metadata": {
        "id": "hqH8MrjSho8O",
        "colab_type": "code",
        "colab": {
          "base_uri": "https://localhost:8080/",
          "height": 34
        },
        "outputId": "6b70d612-2487-4bd6-9bdb-23b564a7783c"
      },
      "source": [
        "f=open(\"abc.txt\",\"a\")\n",
        "f.write(\"Nitesh\\n\")\n",
        "f.write(\"Kumar\\n\")\n",
        "f.write(\"Singh\\n\")\n",
        "print(\"Data written successfully\")"
      ],
      "execution_count": 7,
      "outputs": [
        {
          "output_type": "stream",
          "text": [
            "Data written successfully\n"
          ],
          "name": "stdout"
        }
      ]
    },
    {
      "cell_type": "code",
      "metadata": {
        "id": "P8sfAHXJX9aX",
        "colab_type": "code",
        "colab": {
          "base_uri": "https://localhost:8080/",
          "height": 136
        },
        "outputId": "32d88361-145f-4b24-b943-494928812849"
      },
      "source": [
        "f=open(\"abc.txt\",\"r\")\n",
        "print(f.read())"
      ],
      "execution_count": 8,
      "outputs": [
        {
          "output_type": "stream",
          "text": [
            "Nitesh\n",
            "Kumar\n",
            "Singh\n",
            "Nitesh\n",
            "Kumar\n",
            "Singh\n",
            "\n"
          ],
          "name": "stdout"
        }
      ]
    },
    {
      "cell_type": "code",
      "metadata": {
        "id": "HyRYBMckiX0u",
        "colab_type": "code",
        "colab": {
          "base_uri": "https://localhost:8080/",
          "height": 34
        },
        "outputId": "280f0d10-6101-40c9-c6dd-0a60033d2c4c"
      },
      "source": [
        "f=open(\"abc.txt\",\"w\")\n",
        "list=[\"Nitesh\",\"Kumar\",\"Singh\"]\n",
        "f.writelines(list)\n",
        "print(\"Data written successfully\")"
      ],
      "execution_count": 9,
      "outputs": [
        {
          "output_type": "stream",
          "text": [
            "Data written successfully\n"
          ],
          "name": "stdout"
        }
      ]
    },
    {
      "cell_type": "code",
      "metadata": {
        "id": "Fl-Zaxj-YBYT",
        "colab_type": "code",
        "colab": {
          "base_uri": "https://localhost:8080/",
          "height": 34
        },
        "outputId": "d46b60de-f7f9-4007-d555-131a5129f353"
      },
      "source": [
        "f=open(\"abc.txt\",\"r\")\n",
        "print(f.read())"
      ],
      "execution_count": 12,
      "outputs": [
        {
          "output_type": "stream",
          "text": [
            "NiteshKumarSingh\n"
          ],
          "name": "stdout"
        }
      ]
    },
    {
      "cell_type": "code",
      "metadata": {
        "id": "KsQ-BXRmiwAZ",
        "colab_type": "code",
        "colab": {}
      },
      "source": [
        "f.close()"
      ],
      "execution_count": 13,
      "outputs": []
    },
    {
      "cell_type": "code",
      "metadata": {
        "id": "R3Z-25ZdjPGd",
        "colab_type": "code",
        "colab": {}
      },
      "source": [
        "Reading Character data from the file\n",
        "\n",
        "read() ==>To read total data from file\n",
        "read(n) ==>To read 'n' character from file\n",
        "readliine() ==> To read only one line\n",
        "readlines() ==> T read all lines into a list"
      ],
      "execution_count": null,
      "outputs": []
    },
    {
      "cell_type": "code",
      "metadata": {
        "id": "QMOmJE0YjPDJ",
        "colab_type": "code",
        "colab": {
          "base_uri": "https://localhost:8080/",
          "height": 35
        },
        "outputId": "29e3e3ed-9e6a-4f30-c717-ca6f4a7fe5f2"
      },
      "source": [
        "f=open(\"abc.txt\",\"r\")\n",
        "f.read()"
      ],
      "execution_count": 14,
      "outputs": [
        {
          "output_type": "execute_result",
          "data": {
            "application/vnd.google.colaboratory.intrinsic": {
              "type": "string"
            },
            "text/plain": [
              "'NiteshKumarSingh'"
            ]
          },
          "metadata": {
            "tags": []
          },
          "execution_count": 14
        }
      ]
    },
    {
      "cell_type": "code",
      "metadata": {
        "id": "jN8KIL5kjO-0",
        "colab_type": "code",
        "colab": {}
      },
      "source": [
        "f.close()"
      ],
      "execution_count": 15,
      "outputs": []
    },
    {
      "cell_type": "code",
      "metadata": {
        "id": "VBeEJlzUjO7E",
        "colab_type": "code",
        "colab": {
          "base_uri": "https://localhost:8080/",
          "height": 35
        },
        "outputId": "87652a60-933f-413c-9abe-6c91ec7700a8"
      },
      "source": [
        "f=open(\"abc.txt\",\"r\")\n",
        "f.read(5)"
      ],
      "execution_count": 16,
      "outputs": [
        {
          "output_type": "execute_result",
          "data": {
            "application/vnd.google.colaboratory.intrinsic": {
              "type": "string"
            },
            "text/plain": [
              "'Nites'"
            ]
          },
          "metadata": {
            "tags": []
          },
          "execution_count": 16
        }
      ]
    },
    {
      "cell_type": "code",
      "metadata": {
        "id": "S1oZRPMUjO3H",
        "colab_type": "code",
        "colab": {}
      },
      "source": [
        "f.close()"
      ],
      "execution_count": 17,
      "outputs": []
    },
    {
      "cell_type": "code",
      "metadata": {
        "id": "xww8vB98YlIa",
        "colab_type": "code",
        "colab": {}
      },
      "source": [
        "f=open(\"abc.txt\",\"w\")\n",
        "list=[\"Nitesh\\n\",\"Kumar\\n\",\"Singh\\n\"]\n",
        "f.writelines(list)"
      ],
      "execution_count": 22,
      "outputs": []
    },
    {
      "cell_type": "code",
      "metadata": {
        "id": "UjLeT2XuZg1i",
        "colab_type": "code",
        "colab": {
          "base_uri": "https://localhost:8080/",
          "height": 34
        },
        "outputId": "b983a1d8-fa5a-4a71-ab85-a47778f8ef08"
      },
      "source": [
        "f=open(\"abc.txt\",\"r\")\n",
        "print(f.readline(),end=\"\")"
      ],
      "execution_count": 25,
      "outputs": [
        {
          "output_type": "stream",
          "text": [
            "Nitesh\n"
          ],
          "name": "stdout"
        }
      ]
    },
    {
      "cell_type": "code",
      "metadata": {
        "id": "zq46QbMSjOzq",
        "colab_type": "code",
        "colab": {
          "base_uri": "https://localhost:8080/",
          "height": 68
        },
        "outputId": "42f33504-287c-43cc-ac68-396accc7142e"
      },
      "source": [
        "f=open(\"abc.txt\",\"r\")\n",
        "print(f.readline(),end=\"\")\n",
        "print(f.readline(),end=\"\")\n",
        "print(f.readline(),end=\"\")"
      ],
      "execution_count": 26,
      "outputs": [
        {
          "output_type": "stream",
          "text": [
            "Nitesh\n",
            "Kumar\n",
            "Singh\n"
          ],
          "name": "stdout"
        }
      ]
    },
    {
      "cell_type": "code",
      "metadata": {
        "id": "QDsKpMXjmNHD",
        "colab_type": "code",
        "colab": {
          "base_uri": "https://localhost:8080/",
          "height": 68
        },
        "outputId": "bcda2894-8400-42d4-de90-78d2fe7e8aad"
      },
      "source": [
        "f=open(\"abc.txt\",\"r\")\n",
        "while True:\n",
        "  str=f.readline()\n",
        "  if len(str)<=1:\n",
        "    break\n",
        "  print(str,end=\"\")"
      ],
      "execution_count": 27,
      "outputs": [
        {
          "output_type": "stream",
          "text": [
            "Nitesh\n",
            "Kumar\n",
            "Singh\n"
          ],
          "name": "stdout"
        }
      ]
    },
    {
      "cell_type": "code",
      "metadata": {
        "id": "oe4UHTYKjOvQ",
        "colab_type": "code",
        "colab": {}
      },
      "source": [
        "f.close()"
      ],
      "execution_count": null,
      "outputs": []
    },
    {
      "cell_type": "code",
      "metadata": {
        "id": "yGJHzHPkjRWm",
        "colab_type": "code",
        "colab": {
          "base_uri": "https://localhost:8080/",
          "height": 68
        },
        "outputId": "66235554-1390-4b09-c4ca-588f30690d5f"
      },
      "source": [
        "f=open(\"abc.txt\",\"r\")\n",
        "list=f.readlines()\n",
        "for item in list:\n",
        "  print(item,end=\"\")"
      ],
      "execution_count": 24,
      "outputs": [
        {
          "output_type": "stream",
          "text": [
            "Nitesh\n",
            "Kumar\n",
            "Singh\n"
          ],
          "name": "stdout"
        }
      ]
    },
    {
      "cell_type": "code",
      "metadata": {
        "id": "B_qmY4injRTd",
        "colab_type": "code",
        "colab": {}
      },
      "source": [
        "f.close()"
      ],
      "execution_count": 28,
      "outputs": []
    },
    {
      "cell_type": "code",
      "metadata": {
        "id": "UtSr6mnRjRQM",
        "colab_type": "code",
        "colab": {}
      },
      "source": [
        "The With Statement\n",
        "\n",
        "If you want to group a set of filestatements\n",
        "It will take care of closing of file automatically"
      ],
      "execution_count": null,
      "outputs": []
    },
    {
      "cell_type": "code",
      "metadata": {
        "id": "4vqSSFjEjRM6",
        "colab_type": "code",
        "colab": {
          "base_uri": "https://localhost:8080/",
          "height": 34
        },
        "outputId": "ec293535-a5a4-4870-a8d7-44a943e23a72"
      },
      "source": [
        "with open('abc.txt','w') as f:\n",
        "  f.write(\"NiteshKumarSinghSingh\\n\")\n",
        "  f.write(\"NiteshKumarSinghSingh1\\n\")\n",
        "  f.write(\"NiteshKumarSinghSingh2\\n\")\n",
        "  print(\"Is file closed \",f.closed)"
      ],
      "execution_count": 36,
      "outputs": [
        {
          "output_type": "stream",
          "text": [
            "Is file closed  False\n"
          ],
          "name": "stdout"
        }
      ]
    },
    {
      "cell_type": "code",
      "metadata": {
        "id": "84jR6Fq4jRJ1",
        "colab_type": "code",
        "colab": {
          "base_uri": "https://localhost:8080/",
          "height": 34
        },
        "outputId": "f6d065eb-7586-4fea-9393-0a1e49666084"
      },
      "source": [
        "print(f.closed)"
      ],
      "execution_count": 35,
      "outputs": [
        {
          "output_type": "stream",
          "text": [
            "True\n"
          ],
          "name": "stdout"
        }
      ]
    },
    {
      "cell_type": "code",
      "metadata": {
        "id": "MEYaOdZ3jRG6",
        "colab_type": "code",
        "colab": {}
      },
      "source": [
        "Imporatant Method:\n",
        " f.tell()  # Returns the position of cursor\n",
        " f.seek(offset(fromhere),fromthere) # It is used to move cursor to specific postion.\n",
        "                          # offset 0 means : From begining of file(default value)(Only 0 offset is possible)\n",
        "# f.seek(0,10) or f.seek(10) both are same means it will move/ place cursor to 10th position means(0 to 9 skipped and points 10)\n"
      ],
      "execution_count": null,
      "outputs": []
    },
    {
      "cell_type": "code",
      "metadata": {
        "id": "TDPKZrevjREA",
        "colab_type": "code",
        "colab": {
          "base_uri": "https://localhost:8080/",
          "height": 102
        },
        "outputId": "f138cd73-bce2-4191-f307-6d8b2ab245fd"
      },
      "source": [
        "f=open(\"abc.txt\",\"r\")\n",
        "print(f.tell())\n",
        "print(f.read(4))\n",
        "print(f.tell())\n",
        "print(f.read(2))\n",
        "print(f.tell())"
      ],
      "execution_count": 37,
      "outputs": [
        {
          "output_type": "stream",
          "text": [
            "0\n",
            "Nite\n",
            "4\n",
            "sh\n",
            "6\n"
          ],
          "name": "stdout"
        }
      ]
    },
    {
      "cell_type": "code",
      "metadata": {
        "id": "W2cVP57KjQ75",
        "colab_type": "code",
        "colab": {}
      },
      "source": [
        "data=\"All students are stupids\"\n",
        "f=open(\"abcde.txt\",\"w\")\n",
        "f.write(data)\n",
        "f.close()"
      ],
      "execution_count": 40,
      "outputs": []
    },
    {
      "cell_type": "code",
      "metadata": {
        "id": "zi6ol5jMjQ2e",
        "colab_type": "code",
        "colab": {
          "base_uri": "https://localhost:8080/",
          "height": 85
        },
        "outputId": "76854c3d-931b-4b7e-8f8b-f2922d14a3c7"
      },
      "source": [
        "with open(\"abcde.txt\",'r+') as f:\n",
        "  text=f.read()\n",
        "  print(text)\n",
        "  print(f.tell())\n",
        "  f.seek(17)\n",
        "  print(f.tell())\n",
        "  f.write(\"GEMS...\")\n",
        "  f.seek(0)\n",
        "  text=f.read()\n",
        "  print(text)"
      ],
      "execution_count": 41,
      "outputs": [
        {
          "output_type": "stream",
          "text": [
            "All students are stupids\n",
            "24\n",
            "17\n",
            "All students are GEMS...\n"
          ],
          "name": "stdout"
        }
      ]
    },
    {
      "cell_type": "code",
      "metadata": {
        "id": "KhMhnAbQjQzC",
        "colab_type": "code",
        "colab": {}
      },
      "source": [
        "# check existece of file \n",
        "os.path.isfile(fname)"
      ],
      "execution_count": null,
      "outputs": []
    },
    {
      "cell_type": "code",
      "metadata": {
        "id": "ibmJ0uAVjQwG",
        "colab_type": "code",
        "colab": {
          "base_uri": "https://localhost:8080/",
          "height": 85
        },
        "outputId": "270cd759-e85f-47b2-cf02-68fb4b6a38e0"
      },
      "source": [
        "import os,sys\n",
        "fname=input(\"Enter file name\")\n",
        "if os.path.isfile(fname):\n",
        "  print(\"File exists:\",fname)\n",
        "  f=open(fname,\"r\")\n",
        "else:\n",
        "  print(\"File not exists:\",fname)\n",
        "  sys.exit(0)\n",
        "print(\"The content file is :\")\n",
        "data=f.read()\n",
        "print(data)"
      ],
      "execution_count": null,
      "outputs": [
        {
          "output_type": "stream",
          "text": [
            "Enter file nameabcde.txt\n",
            "File exists: abcde.txt\n",
            "The content file is :\n",
            "All students are GEMS...\n"
          ],
          "name": "stdout"
        }
      ]
    },
    {
      "cell_type": "code",
      "metadata": {
        "id": "v8unm2s4jQtI",
        "colab_type": "code",
        "colab": {
          "base_uri": "https://localhost:8080/",
          "height": 85
        },
        "outputId": "5e59cd7b-4a42-467d-d202-7478c60bc658"
      },
      "source": [
        "import os,sys\n",
        "fname=input(\"Enter file name\")\n",
        "if os.path.isfile(fname):\n",
        "  print(\"File exists:\",fname)\n",
        "  f=open(fname,\"r\")\n",
        "  print(\"The content file is :\")\n",
        "  data=f.read()\n",
        "  print(data)\n",
        "else:\n",
        "  print(\"File not exists:\",fname)\n",
        "  sys.exit(0)"
      ],
      "execution_count": 42,
      "outputs": [
        {
          "output_type": "stream",
          "text": [
            "Enter file nameabcde.txt\n",
            "File exists: abcde.txt\n",
            "The content file is :\n",
            "All students are GEMS...\n"
          ],
          "name": "stdout"
        }
      ]
    },
    {
      "cell_type": "code",
      "metadata": {
        "id": "bUiqykCgjQph",
        "colab_type": "code",
        "colab": {
          "base_uri": "https://localhost:8080/",
          "height": 68
        },
        "outputId": "2a1c99e8-2481-4f06-e200-7857e12ff9cc"
      },
      "source": [
        "# WAP to count #lines, #character and #word in text file.\n",
        "import os,sys\n",
        "fname=input(\"Enter filname\")\n",
        "if os.path.isfile(\"abc.txt\"):\n",
        "  print(\"File Exists : \",fname)\n",
        "  with open(fname,\"r\") as f:\n",
        "    lcount=wcount=ccount=0\n",
        "    for item in f:\n",
        "      lcount+=1\n",
        "      ccount+=len(item)\n",
        "      words=item.split()\n",
        "      wcount+=len(words)\n",
        "    print(\"Line = {0} Word={1} Characters={2}\".format(lcount,wcount,ccount))\n",
        "else:\n",
        "  printf(\"File not exists :\",fname)\n",
        "  sys.exit(0)"
      ],
      "execution_count": null,
      "outputs": [
        {
          "output_type": "stream",
          "text": [
            "Enter filnameabc.txt\n",
            "File Exists :  abc.txt\n",
            "Line = 3 Word=9 Characters=57\n"
          ],
          "name": "stdout"
        }
      ]
    },
    {
      "cell_type": "code",
      "metadata": {
        "id": "aEls3iREjQme",
        "colab_type": "code",
        "colab": {}
      },
      "source": [
        "Handling Binary Data\n",
        "  1.Image Data\n",
        "  2.Video Data(Similar, to image data we can do for video data. Below Code)"
      ],
      "execution_count": null,
      "outputs": []
    },
    {
      "cell_type": "code",
      "metadata": {
        "id": "TGG0LVi6jQi_",
        "colab_type": "code",
        "colab": {
          "base_uri": "https://localhost:8080/",
          "height": 34
        },
        "outputId": "94db3424-1fe0-40ca-c1e8-0ca77278b012"
      },
      "source": [
        "f=open('python.png','rb')\n",
        "f1=open('python1.png','wb')\n",
        "bytes=f.read()\n",
        "f1.write(bytes)\n",
        "f1.close()"
      ],
      "execution_count": null,
      "outputs": [
        {
          "output_type": "execute_result",
          "data": {
            "text/plain": [
              "3486"
            ]
          },
          "metadata": {
            "tags": []
          },
          "execution_count": 10
        }
      ]
    },
    {
      "cell_type": "code",
      "metadata": {
        "id": "8Ov9aeBGjQfI",
        "colab_type": "code",
        "colab": {}
      },
      "source": [
        "f.close()\n",
        "f1.close()"
      ],
      "execution_count": null,
      "outputs": []
    },
    {
      "cell_type": "code",
      "metadata": {
        "id": "O2ZOQidEjQbj",
        "colab_type": "code",
        "colab": {
          "base_uri": "https://localhost:8080/",
          "height": 51
        },
        "outputId": "f158be03-c5d7-4f8a-a2fa-767901fd59be"
      },
      "source": [
        "print(f.closed)\n",
        "print(f1.closed)"
      ],
      "execution_count": null,
      "outputs": [
        {
          "output_type": "stream",
          "text": [
            "True\n",
            "True\n"
          ],
          "name": "stdout"
        }
      ]
    },
    {
      "cell_type": "code",
      "metadata": {
        "id": "XHrkWbJBjQX_",
        "colab_type": "code",
        "colab": {}
      },
      "source": [
        "f2=open(\"inputvideo.mp4\",\"rb\")\n",
        "f3=open(\"inputvideo.mp4\",\"wb\")\n",
        "bytes=f2.read()\n",
        "f3.write(bytes)"
      ],
      "execution_count": null,
      "outputs": []
    },
    {
      "cell_type": "code",
      "metadata": {
        "id": "RSRgcu0QjQT-",
        "colab_type": "code",
        "colab": {}
      },
      "source": [
        "f2.close()\n",
        "f3.close()"
      ],
      "execution_count": null,
      "outputs": []
    },
    {
      "cell_type": "code",
      "metadata": {
        "id": "p2Sf26pjGp0w",
        "colab_type": "code",
        "colab": {}
      },
      "source": [
        "Handling CSV files\n",
        "csv module"
      ],
      "execution_count": null,
      "outputs": []
    },
    {
      "cell_type": "code",
      "metadata": {
        "id": "5uZA3tLEGpxv",
        "colab_type": "code",
        "colab": {
          "base_uri": "https://localhost:8080/",
          "height": 119
        },
        "outputId": "986b4f21-9b3c-46df-8cd2-9d274c29051c"
      },
      "source": [
        "# Write data to csv file\n",
        "\n",
        "import csv\n",
        "with open(\"employee.csv\",\"w\",newline=\"\") as f:\n",
        "  w=csv.writer(f) # Returns csv writer object pointing to f\n",
        "  w.writerow([\"EmpNo\",\"EmpName\",\"EmpSal\",\"EmpAddr\"])\n",
        "  n=int(input(\"Enter number of rows\"))\n",
        "  for i in range(n):\n",
        "    eno=int(input(\"Enter employee no\"))\n",
        "    ename=input(\"Enter employee name\")\n",
        "    esal=int(input(\"Enter employee salary\"))\n",
        "    eaddr=input(\"Enter employee address\")\n",
        "    w.writerow([eno,ename,esal,eaddr])\n",
        "print(\"Written Successfully\")"
      ],
      "execution_count": 48,
      "outputs": [
        {
          "output_type": "stream",
          "text": [
            "Enter number of rows1\n",
            "Enter employee no1\n",
            "Enter employee nameNitesh\n",
            "Enter employee salary50000\n",
            "Enter employee addressPatna\n",
            "Written Successfully\n"
          ],
          "name": "stdout"
        }
      ]
    },
    {
      "cell_type": "code",
      "metadata": {
        "id": "reJAbv5RGpsz",
        "colab_type": "code",
        "colab": {}
      },
      "source": [
        "# if we will not mention newline in open() then a blank row get insert after each entry in the employee file.\n",
        "# Don't forget to write newline=\"\" in open() funtion."
      ],
      "execution_count": null,
      "outputs": []
    },
    {
      "cell_type": "code",
      "metadata": {
        "id": "KzNhvmeYGppY",
        "colab_type": "code",
        "colab": {
          "base_uri": "https://localhost:8080/",
          "height": 51
        },
        "outputId": "bb8db251-808c-46c0-94da-174656bf7e40"
      },
      "source": [
        "# Read data from csv file\n",
        "import csv\n",
        "f=open(\"employee.csv\",\"r\") \n",
        "r=csv.reader(f)\n",
        "for row in r:\n",
        "   print(','.join(row))"
      ],
      "execution_count": 56,
      "outputs": [
        {
          "output_type": "stream",
          "text": [
            "EmpNo,EmpName,EmpSal,EmpAddr\n",
            "1,Nitesh,50000,Patna\n"
          ],
          "name": "stdout"
        }
      ]
    },
    {
      "cell_type": "code",
      "metadata": {
        "id": "kkjSGE3GGpm0",
        "colab_type": "code",
        "colab": {}
      },
      "source": [
        "Zipping and Unzipping files\n",
        "\n",
        "zipfile(module)\n",
        "ZipFile(class)\n",
        "\n",
        "f=ZipFile(\"files.zip\",\"w\")\n",
        "f.write(filename1)\n",
        "f.write(filename2)\n",
        "f.write(filename3)\n",
        "f.write(filename4)\n",
        "f.write(filename5)"
      ],
      "execution_count": null,
      "outputs": []
    },
    {
      "cell_type": "code",
      "metadata": {
        "id": "70KeX3TWGpiC",
        "colab_type": "code",
        "colab": {}
      },
      "source": [
        "from zipfile import ZipFile\n",
        "f=ZipFile(\"files.zip\",\"w\")\n",
        "f.write(\"abc.txt\")\n",
        "f.write(\"abcde.txt\")\n",
        "f.write(\"employee.csv\")\n",
        "f.close() "
      ],
      "execution_count": 64,
      "outputs": []
    },
    {
      "cell_type": "code",
      "metadata": {
        "id": "042g9fyPGpej",
        "colab_type": "code",
        "colab": {
          "base_uri": "https://localhost:8080/",
          "height": 102
        },
        "outputId": "d6ab9dfb-580e-4ee3-82c9-2f11f1e52c65"
      },
      "source": [
        "f=ZipFile(\"files.zip\",\"r\")\n",
        "names=f.namelist()\n",
        "for name in names:\n",
        "  if name.split('.')[1]!='csv':\n",
        "    fo=open(name,'r')\n",
        "    print(fo.read())"
      ],
      "execution_count": 75,
      "outputs": [
        {
          "output_type": "stream",
          "text": [
            "NiteshKumarSinghSingh\n",
            "NiteshKumarSinghSingh1\n",
            "NiteshKumarSinghSingh2\n",
            "\n",
            "All students are GEMS...\n"
          ],
          "name": "stdout"
        }
      ]
    },
    {
      "cell_type": "code",
      "metadata": {
        "id": "ES2WHeqhGpaa",
        "colab_type": "code",
        "colab": {}
      },
      "source": [
        "# Working with directories\n",
        "os module\n",
        "# os.getcwd() : To know current working directory\n",
        "# os.mkdir(\"dir\") : To create a directory\n",
        "# os.makedirs(\"dir1/dir2\") : To create mutiple subdirectories\n",
        "# os.rmdir(\"dir\") : To remove a directory\n",
        "# os.removedirs(\"dir1/dir2\") : To remove all directory and subdirectory\n",
        "# os.rename(\"x\",\"x1\") : To rename a directory\n",
        "# os.listdir(\"dir1\") : List content in a directory"
      ],
      "execution_count": 75,
      "outputs": []
    },
    {
      "cell_type": "code",
      "metadata": {
        "id": "WH6eRgEAGpXj",
        "colab_type": "code",
        "colab": {
          "base_uri": "https://localhost:8080/",
          "height": 34
        },
        "outputId": "12c41daa-9418-4107-b933-7b7934646da1"
      },
      "source": [
        "import os\n",
        "cwd=os.getcwd()\n",
        "print(cwd)"
      ],
      "execution_count": 76,
      "outputs": [
        {
          "output_type": "stream",
          "text": [
            "/content\n"
          ],
          "name": "stdout"
        }
      ]
    },
    {
      "cell_type": "code",
      "metadata": {
        "id": "gxD0jOqwGpVA",
        "colab_type": "code",
        "colab": {}
      },
      "source": [
        "cwd=os.mkdir(\"test\")"
      ],
      "execution_count": 77,
      "outputs": []
    },
    {
      "cell_type": "code",
      "metadata": {
        "id": "WPmpn44QGpSh",
        "colab_type": "code",
        "colab": {}
      },
      "source": [
        "cwd=os.mkdir(\"test/test2\")"
      ],
      "execution_count": 79,
      "outputs": []
    },
    {
      "cell_type": "code",
      "metadata": {
        "id": "DWUhUMzrGpQh",
        "colab_type": "code",
        "colab": {
          "base_uri": "https://localhost:8080/",
          "height": 163
        },
        "outputId": "540818cf-7134-4c3c-ac21-81c750c58b8d"
      },
      "source": [
        "cwd=os.mkdir(\"test1/test2\")"
      ],
      "execution_count": 80,
      "outputs": [
        {
          "output_type": "error",
          "ename": "FileNotFoundError",
          "evalue": "ignored",
          "traceback": [
            "\u001b[0;31m---------------------------------------------------------------------------\u001b[0m",
            "\u001b[0;31mFileNotFoundError\u001b[0m                         Traceback (most recent call last)",
            "\u001b[0;32m<ipython-input-80-778467d81f5f>\u001b[0m in \u001b[0;36m<module>\u001b[0;34m()\u001b[0m\n\u001b[0;32m----> 1\u001b[0;31m \u001b[0mcwd\u001b[0m\u001b[0;34m=\u001b[0m\u001b[0mos\u001b[0m\u001b[0;34m.\u001b[0m\u001b[0mmkdir\u001b[0m\u001b[0;34m(\u001b[0m\u001b[0;34m\"test1/test2\"\u001b[0m\u001b[0;34m)\u001b[0m\u001b[0;34m\u001b[0m\u001b[0;34m\u001b[0m\u001b[0m\n\u001b[0m",
            "\u001b[0;31mFileNotFoundError\u001b[0m: [Errno 2] No such file or directory: 'test1/test2'"
          ]
        }
      ]
    },
    {
      "cell_type": "code",
      "metadata": {
        "id": "R8ysExtDGpNV",
        "colab_type": "code",
        "colab": {}
      },
      "source": [
        "cwd=os.makedirs(\"test1/test2/test3\")"
      ],
      "execution_count": 84,
      "outputs": []
    },
    {
      "cell_type": "code",
      "metadata": {
        "id": "nHF9f1XJGpKm",
        "colab_type": "code",
        "colab": {}
      },
      "source": [
        "os.makedirs"
      ],
      "execution_count": null,
      "outputs": []
    },
    {
      "cell_type": "code",
      "metadata": {
        "id": "CDrxKF5mGpHt",
        "colab_type": "code",
        "colab": {}
      },
      "source": [
        "os.rmdir(\"test/test2\")"
      ],
      "execution_count": 86,
      "outputs": []
    },
    {
      "cell_type": "code",
      "metadata": {
        "id": "5FCF9ro_GpDh",
        "colab_type": "code",
        "colab": {}
      },
      "source": [
        "os.removedirs(\"test1/test2/test3\")"
      ],
      "execution_count": 87,
      "outputs": []
    },
    {
      "cell_type": "code",
      "metadata": {
        "id": "PyTNvCBoGo-Z",
        "colab_type": "code",
        "colab": {}
      },
      "source": [
        "os.rename(\"test\",\"test1\")"
      ],
      "execution_count": 88,
      "outputs": []
    },
    {
      "cell_type": "code",
      "metadata": {
        "id": "xp7tmuaEGo3-",
        "colab_type": "code",
        "colab": {
          "base_uri": "https://localhost:8080/",
          "height": 119
        },
        "outputId": "becb7e34-8511-4a69-f468-bc2053863160"
      },
      "source": [
        "os.listdir(\"sample_data\")"
      ],
      "execution_count": 89,
      "outputs": [
        {
          "output_type": "execute_result",
          "data": {
            "text/plain": [
              "['README.md',\n",
              " 'anscombe.json',\n",
              " 'california_housing_test.csv',\n",
              " 'california_housing_train.csv',\n",
              " 'mnist_train_small.csv',\n",
              " 'mnist_test.csv']"
            ]
          },
          "metadata": {
            "tags": []
          },
          "execution_count": 89
        }
      ]
    },
    {
      "cell_type": "code",
      "metadata": {
        "id": "7I1-YbbQGogS",
        "colab_type": "code",
        "colab": {}
      },
      "source": [
        ""
      ],
      "execution_count": null,
      "outputs": []
    },
    {
      "cell_type": "code",
      "metadata": {
        "id": "iyu0KVDVGocB",
        "colab_type": "code",
        "colab": {}
      },
      "source": [
        ""
      ],
      "execution_count": null,
      "outputs": []
    },
    {
      "cell_type": "code",
      "metadata": {
        "id": "TDzj2ratGoXK",
        "colab_type": "code",
        "colab": {}
      },
      "source": [
        ""
      ],
      "execution_count": null,
      "outputs": []
    },
    {
      "cell_type": "code",
      "metadata": {
        "id": "iYnsiSaDGoHQ",
        "colab_type": "code",
        "colab": {}
      },
      "source": [
        ""
      ],
      "execution_count": null,
      "outputs": []
    }
  ]
}