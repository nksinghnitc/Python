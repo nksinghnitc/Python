{
  "nbformat": 4,
  "nbformat_minor": 0,
  "metadata": {
    "colab": {
      "name": "Exception Handling.ipynb",
      "provenance": [],
      "authorship_tag": "ABX9TyNMksdUEGbCDKa1QMoghwAs",
      "include_colab_link": true
    },
    "kernelspec": {
      "name": "python3",
      "display_name": "Python 3"
    }
  },
  "cells": [
    {
      "cell_type": "markdown",
      "metadata": {
        "id": "view-in-github",
        "colab_type": "text"
      },
      "source": [
        "<a href=\"https://colab.research.google.com/github/nksinghnitc/Python/blob/master/Exception_Handling.ipynb\" target=\"_parent\"><img src=\"https://colab.research.google.com/assets/colab-badge.svg\" alt=\"Open In Colab\"/></a>"
      ]
    },
    {
      "cell_type": "code",
      "metadata": {
        "id": "A8CATPvhB4l5",
        "colab_type": "code",
        "colab": {}
      },
      "source": [
        "File Handling\n",
        "\n",
        "Types of error :\n",
        "  1: Syntax Error\n",
        "     Ex - print(\"Nitesh\" # SyntaxError: unexpected EOF while parsing\n",
        "    Note: \"Here we don't have close parenthesis so we are getting syntax error.\"  \n",
        "          \"Programmer is responsible to correct these error.\"\n",
        "  2: Runtime Error(Known as exception)\n",
        "     Ex - print(1/0)   #  ZeroDivisionError: division by zero\n",
        "     Note:\"While executing the program if we get any error is called runtime error also known as exceptions.\"\n",
        "          \"Exception Handling techniques are used to handle runtime error and not syntax error.\"\n",
        "          \"It is higly recommended to handle exception to avoid abnormal termination of program.\"\n",
        "  General Syntax of Exception Handling is :\n",
        "    try:\n",
        "      read data from remote file location in london\n",
        "    except FileNotFoundError:\n",
        "      use local file and continue rest of program normally\n",
        "\n",
        "1.We know that in python everything is an Object. \n",
        "2.So similarly any runtime error/exception is also an object. \n",
        "3.So for every runtime error/exception object corresponding class is available.  \n",
        "4.Whenever an exception occur PVM(python virtual machine) will create object of that exception.\n",
        "5.After exception object creation, it searches for handling code.\n",
        "6.The handling code will be available in except block.\n",
        "7.If handling code is not available then python terminates program abnormally and print corresponding exception information."
      ],
      "execution_count": 0,
      "outputs": []
    },
    {
      "cell_type": "code",
      "metadata": {
        "id": "Jk66Wt5RByjg",
        "colab_type": "code",
        "outputId": "fd53dfe6-f35c-4ee1-c09a-4a732d5de7c9",
        "colab": {
          "base_uri": "https://localhost:8080/",
          "height": 214
        }
      },
      "source": [
        "print(\"Hello\")\n",
        "print(1/0)\n",
        "print(\"Hi\")"
      ],
      "execution_count": 0,
      "outputs": [
        {
          "output_type": "stream",
          "text": [
            "Hello\n"
          ],
          "name": "stdout"
        },
        {
          "output_type": "error",
          "ename": "ZeroDivisionError",
          "evalue": "ignored",
          "traceback": [
            "\u001b[0;31m---------------------------------------------------------------------------\u001b[0m",
            "\u001b[0;31mZeroDivisionError\u001b[0m                         Traceback (most recent call last)",
            "\u001b[0;32m<ipython-input-5-d788df34bff2>\u001b[0m in \u001b[0;36m<module>\u001b[0;34m()\u001b[0m\n\u001b[1;32m      1\u001b[0m \u001b[0mprint\u001b[0m\u001b[0;34m(\u001b[0m\u001b[0;34m\"Hello\"\u001b[0m\u001b[0;34m)\u001b[0m\u001b[0;34m\u001b[0m\u001b[0;34m\u001b[0m\u001b[0m\n\u001b[0;32m----> 2\u001b[0;31m \u001b[0mprint\u001b[0m\u001b[0;34m(\u001b[0m\u001b[0;36m1\u001b[0m\u001b[0;34m/\u001b[0m\u001b[0;36m0\u001b[0m\u001b[0;34m)\u001b[0m\u001b[0;34m\u001b[0m\u001b[0;34m\u001b[0m\u001b[0m\n\u001b[0m\u001b[1;32m      3\u001b[0m \u001b[0mprint\u001b[0m\u001b[0;34m(\u001b[0m\u001b[0;34m\"Hi\"\u001b[0m\u001b[0;34m)\u001b[0m\u001b[0;34m\u001b[0m\u001b[0;34m\u001b[0m\u001b[0m\n",
            "\u001b[0;31mZeroDivisionError\u001b[0m: division by zero"
          ]
        }
      ]
    },
    {
      "cell_type": "code",
      "metadata": {
        "id": "yco8FMdNB6CR",
        "colab_type": "code",
        "colab": {}
      },
      "source": [
        "Python Exception Hierarchy\n",
        "\n",
        "1.BaseException:1.Exception    -    1.AttributeError\n",
        "                                    2.ArithmenticError    -   1.ZeroDivisionError\n",
        "                                                              2.FloatingPointError\n",
        "                                                              3.OverflowError\n",
        "                                    3.EOFError\n",
        "                                    4.NameError\n",
        "                                    5.LookupError   -   1.IndexError\n",
        "                                                        2.KeyError  \n",
        "                                    6.OSError   -   1.FileNotFoundError\n",
        "                                                    2.InterruptedError\n",
        "                                                    3.PermissionError\n",
        "                                                    4.TimeOutError\n",
        "                                    7.TypeError\n",
        "                                    8.ValueError\n",
        "                2.SystemExit\n",
        "                3.GeneratorExit\n",
        "                4.KeyboardInterrupt"
      ],
      "execution_count": 0,
      "outputs": []
    },
    {
      "cell_type": "code",
      "metadata": {
        "id": "MWFGXJr_B5_5",
        "colab_type": "code",
        "colab": {}
      },
      "source": [
        "try:\n",
        "  Risky Code\n",
        "except:\n",
        "  Handling Code"
      ],
      "execution_count": 0,
      "outputs": []
    },
    {
      "cell_type": "code",
      "metadata": {
        "id": "A2FhwD3gB59Y",
        "colab_type": "code",
        "outputId": "3c353b23-db5c-4d17-ffc8-7006845b9bea",
        "colab": {
          "base_uri": "https://localhost:8080/",
          "height": 68
        }
      },
      "source": [
        "print(\"Hello\")\n",
        "try:\n",
        "  print(1/0)\n",
        "except:\n",
        "  print(\"Skip It\")\n",
        "print(\"Hi\")"
      ],
      "execution_count": 0,
      "outputs": [
        {
          "output_type": "stream",
          "text": [
            "Hello\n",
            "Skip It\n",
            "Hi\n"
          ],
          "name": "stdout"
        }
      ]
    },
    {
      "cell_type": "code",
      "metadata": {
        "id": "64SY-ZJIB56c",
        "colab_type": "code",
        "colab": {}
      },
      "source": [
        "try:\n",
        "  stmt-1\n",
        "  stmt-2\n",
        "  stmt-3\n",
        "except:\n",
        "  stmt-4\n",
        "stmt-5\n",
        "\n",
        "Case 1: If no Exception\n",
        " stmt1\n",
        " stmt2\n",
        " stmt3\n",
        " stmt5\n",
        "Case 2: If an exception occur at stmt2 and correponding Handling code is available.\n",
        " stmt1\n",
        " stmt4\n",
        " stmt5\n",
        "Case 3:If an exception occur at stmt2 and correponding Handling code is not available.\n",
        " stmt1\n",
        "\n",
        "Note: Exception can be raised at except block also. So inside except block we can use try- except.\n",
        "\n",
        "Case 4:If an exception occur at stmt2 and correponding Handling code is available but exception occur at except.\n",
        " stmt1\n",
        " except block having handing code then that stmt1 if again exception keep on digging.\n",
        " stmt5(If above handling avaliable)"
      ],
      "execution_count": 0,
      "outputs": []
    },
    {
      "cell_type": "code",
      "metadata": {
        "id": "QQY_WaecB53p",
        "colab_type": "code",
        "outputId": "1cdd099f-8a71-4c4f-ee81-7445d67e14bd",
        "colab": {
          "base_uri": "https://localhost:8080/",
          "height": 34
        }
      },
      "source": [
        "#How to print exception information.\n",
        "try:\n",
        "  print(10/0)\n",
        "except ZeroDivisionError as msg:\n",
        "  print(msg)"
      ],
      "execution_count": 0,
      "outputs": [
        {
          "output_type": "stream",
          "text": [
            "division by zero\n"
          ],
          "name": "stdout"
        }
      ]
    },
    {
      "cell_type": "code",
      "metadata": {
        "id": "gqM4_GZ2B508",
        "colab_type": "code",
        "colab": {}
      },
      "source": [
        "#Handling with multiple except\n",
        "try:\n",
        "  risky code\n",
        "except XXX:\n",
        "  handling code1\n",
        "except XXXX:\n",
        "  handling code2\n",
        "except XXXXX:\n",
        "  handling code3"
      ],
      "execution_count": 0,
      "outputs": []
    },
    {
      "cell_type": "code",
      "metadata": {
        "id": "yZbdRhrxB5yv",
        "colab_type": "code",
        "outputId": "2e2445b9-5515-4627-fe2d-e9d37b8ef61d",
        "colab": {
          "base_uri": "https://localhost:8080/",
          "height": 68
        }
      },
      "source": [
        "try:\n",
        "  x=int(input(\"Enter 1st number\"))\n",
        "  y=int(input(\"Enter 2nd number\"))\n",
        "  print(x/y)\n",
        "except ZeroDivisionError as msg:\n",
        "  print(msg)\n",
        "except ValueError as msg:\n",
        "  print(msg)"
      ],
      "execution_count": 0,
      "outputs": [
        {
          "output_type": "stream",
          "text": [
            "Enter 1st number1\n",
            "Enter 2nd numbertwo\n",
            "invalid literal for int() with base 10: 'two'\n"
          ],
          "name": "stdout"
        }
      ]
    },
    {
      "cell_type": "code",
      "metadata": {
        "id": "5kBpbs64B5wP",
        "colab_type": "code",
        "colab": {}
      },
      "source": [
        "Note : Except Block will get sequentially search and whenever a match found to handle that exception that block will get executed.\n",
        "       If you have parent and child class both in except block to handle exception then the order in which they are present will get priority. "
      ],
      "execution_count": 0,
      "outputs": []
    },
    {
      "cell_type": "code",
      "metadata": {
        "id": "bCP0WnDwB5ta",
        "colab_type": "code",
        "outputId": "ab0bab54-c7a4-4470-f048-f2f313682263",
        "colab": {
          "base_uri": "https://localhost:8080/",
          "height": 68
        }
      },
      "source": [
        "try:\n",
        "  x=int(input(\"Enter 1st number\"))\n",
        "  y=int(input(\"Enter 2nd number\"))\n",
        "  print(x/y)\n",
        "except ArithmeticError:\n",
        "  print(\"Arithmetric Error\")\n",
        "except ZeroDivisionError:\n",
        "  print(\"Divide by zero\")"
      ],
      "execution_count": 0,
      "outputs": [
        {
          "output_type": "stream",
          "text": [
            "Enter 1st number1\n",
            "Enter 2nd number0\n",
            "Arithmetric Error\n"
          ],
          "name": "stdout"
        }
      ]
    },
    {
      "cell_type": "code",
      "metadata": {
        "id": "HDLHulk9B5qm",
        "colab_type": "code",
        "outputId": "9f7591f5-bf25-4e10-a3d8-29386397f1dc",
        "colab": {
          "base_uri": "https://localhost:8080/",
          "height": 68
        }
      },
      "source": [
        "try:\n",
        "  x=int(input(\"Enter 1st number\"))\n",
        "  y=int(input(\"Enter 2nd number\"))\n",
        "  print(x/y)\n",
        "except ZeroDivisionError:\n",
        "  print(\"Divide by zero\")\n",
        "except ArithmeticError:\n",
        "  print(\"Arithmetric Error\")"
      ],
      "execution_count": 0,
      "outputs": [
        {
          "output_type": "stream",
          "text": [
            "Enter 1st number1\n",
            "Enter 2nd number0\n",
            "Divide by zero\n"
          ],
          "name": "stdout"
        }
      ]
    },
    {
      "cell_type": "code",
      "metadata": {
        "id": "9_s6RbDOB5oM",
        "colab_type": "code",
        "colab": {}
      },
      "source": [
        "In the above example we know that ArithmeticError is Parent class of ZeroDivisionError that parent is able to handle Divide by 0 exception.\n",
        "We can see above except block got executed as per order.\n",
        "Conclusion : Top to Bottom will get searched for handling in except block."
      ],
      "execution_count": 0,
      "outputs": []
    },
    {
      "cell_type": "code",
      "metadata": {
        "id": "yHSJBIbqZq22",
        "colab_type": "code",
        "outputId": "eb2c22de-6805-49e7-bf56-4107761fd422",
        "colab": {
          "base_uri": "https://localhost:8080/",
          "height": 68
        }
      },
      "source": [
        "# Sigle Except to handle Mutilple exception\n",
        "try:\n",
        "  x=int(input(\"Enter 1st number\"))\n",
        "  y=int(input(\"Enter 2nd number\"))\n",
        "  print(x/y)\n",
        "except (ZeroDivisionError,ValueError) as msg:\n",
        "  print(msg)"
      ],
      "execution_count": 0,
      "outputs": [
        {
          "output_type": "stream",
          "text": [
            "Enter 1st number1\n",
            "Enter 2nd numberten\n",
            "invalid literal for int() with base 10: 'ten'\n"
          ],
          "name": "stdout"
        }
      ]
    },
    {
      "cell_type": "code",
      "metadata": {
        "id": "BrF5YfAGZqz2",
        "colab_type": "code",
        "outputId": "693b1c16-454f-4a43-97b7-13c82f3a03c0",
        "colab": {
          "base_uri": "https://localhost:8080/",
          "height": 68
        }
      },
      "source": [
        "# Default except\n",
        "try:\n",
        "  x=int(input(\"Enter 1st number\"))\n",
        "  y=int(input(\"Enter 2nd number\"))\n",
        "  print(x/y)\n",
        "except ZeroDivisionError:\n",
        "  print(\"Divide by 0\")\n",
        "except:\n",
        "  print(\"Default Handler\")"
      ],
      "execution_count": 0,
      "outputs": [
        {
          "output_type": "stream",
          "text": [
            "Enter 1st number1\n",
            "Enter 2nd numberval\n",
            "Default Handler\n"
          ],
          "name": "stdout"
        }
      ]
    },
    {
      "cell_type": "code",
      "metadata": {
        "id": "ovJnCLxoZqwI",
        "colab_type": "code",
        "colab": {}
      },
      "source": [
        "Note : Default except should be at end."
      ],
      "execution_count": 0,
      "outputs": []
    },
    {
      "cell_type": "code",
      "metadata": {
        "id": "KbmdvPiiZqta",
        "colab_type": "code",
        "outputId": "21c2e2ec-b753-4ec9-d896-be5cd7faaa1c",
        "colab": {
          "base_uri": "https://localhost:8080/",
          "height": 129
        }
      },
      "source": [
        "try:\n",
        "  x=int(input(\"Enter 1st number\"))\n",
        "  y=int(input(\"Enter 2nd number\"))\n",
        "  print(x/y)\n",
        "except:\n",
        "  print(\"Default Handler\")\n",
        "except ZeroDivisionError:\n",
        "  print(\"Divide by 0\")"
      ],
      "execution_count": 0,
      "outputs": [
        {
          "output_type": "error",
          "ename": "SyntaxError",
          "evalue": "ignored",
          "traceback": [
            "\u001b[0;36m  File \u001b[0;32m\"<ipython-input-26-df2e1623b8a0>\"\u001b[0;36m, line \u001b[0;32m4\u001b[0m\n\u001b[0;31m    print(x/y)\u001b[0m\n\u001b[0m           ^\u001b[0m\n\u001b[0;31mSyntaxError\u001b[0m\u001b[0;31m:\u001b[0m default 'except:' must be last\n"
          ]
        }
      ]
    },
    {
      "cell_type": "code",
      "metadata": {
        "id": "GarnHKyGZqqH",
        "colab_type": "code",
        "colab": {}
      },
      "source": [
        "finally block\n",
        "Note: We take clean up code inside finally block.\n",
        "      It will get excuted whether exception raised or not raised.\n",
        "try:\n",
        "  risky code\n",
        "except:\n",
        "  handling code\n",
        "finally:\n",
        "  cleanup code"
      ],
      "execution_count": 0,
      "outputs": []
    },
    {
      "cell_type": "code",
      "metadata": {
        "id": "9SxKeVupZqm6",
        "colab_type": "code",
        "outputId": "ecd3a39a-2c57-48e8-b236-f188c6518a66",
        "colab": {
          "base_uri": "https://localhost:8080/",
          "height": 51
        }
      },
      "source": [
        "try:\n",
        "  print(\"try\")\n",
        "except:\n",
        "  printf(\"except\")\n",
        "finally:\n",
        "  print(\"finally\")"
      ],
      "execution_count": 1,
      "outputs": [
        {
          "output_type": "stream",
          "text": [
            "try\n",
            "finally\n"
          ],
          "name": "stdout"
        }
      ]
    },
    {
      "cell_type": "code",
      "metadata": {
        "id": "Y1ou_pUaZqje",
        "colab_type": "code",
        "outputId": "9f030d2f-916a-472d-b470-284f7bec655b",
        "colab": {
          "base_uri": "https://localhost:8080/",
          "height": 350
        }
      },
      "source": [
        "#case 1 : If not exception\n",
        "#try\n",
        "#finally\n",
        "try:\n",
        "  print(\"try\")\n",
        "except ZeroDivisionError:\n",
        "  print(\"except\")\n",
        "finally:\n",
        "  print(\"finally\")\n",
        "\n",
        "print()\n",
        "#case 2 : If exception raised but handled\n",
        "#except\n",
        "#finally\n",
        "try:\n",
        "  print(1/0)\n",
        "except ZeroDivisionError:\n",
        "  print(\"except\")\n",
        "finally:\n",
        "  print(\"finally\")\n",
        "print()\n",
        "#case 3 : If exception raised but not handled\n",
        "#finally\n",
        "#exception info\n",
        "try:\n",
        "  print(1/0)\n",
        "except ValueError:\n",
        "  print(\"except\")\n",
        "finally:\n",
        "  print(\"finally\")"
      ],
      "execution_count": 0,
      "outputs": [
        {
          "output_type": "stream",
          "text": [
            "try\n",
            "finally\n",
            "\n",
            "except\n",
            "finally\n",
            "\n",
            "finally\n"
          ],
          "name": "stdout"
        },
        {
          "output_type": "error",
          "ename": "ZeroDivisionError",
          "evalue": "ignored",
          "traceback": [
            "\u001b[0;31m---------------------------------------------------------------------------\u001b[0m",
            "\u001b[0;31mZeroDivisionError\u001b[0m                         Traceback (most recent call last)",
            "\u001b[0;32m<ipython-input-30-cb1ff5e3f318>\u001b[0m in \u001b[0;36m<module>\u001b[0;34m()\u001b[0m\n\u001b[1;32m     24\u001b[0m \u001b[0;31m#exception info\u001b[0m\u001b[0;34m\u001b[0m\u001b[0;34m\u001b[0m\u001b[0;34m\u001b[0m\u001b[0m\n\u001b[1;32m     25\u001b[0m \u001b[0;32mtry\u001b[0m\u001b[0;34m:\u001b[0m\u001b[0;34m\u001b[0m\u001b[0;34m\u001b[0m\u001b[0m\n\u001b[0;32m---> 26\u001b[0;31m   \u001b[0mprint\u001b[0m\u001b[0;34m(\u001b[0m\u001b[0;36m1\u001b[0m\u001b[0;34m/\u001b[0m\u001b[0;36m0\u001b[0m\u001b[0;34m)\u001b[0m\u001b[0;34m\u001b[0m\u001b[0;34m\u001b[0m\u001b[0m\n\u001b[0m\u001b[1;32m     27\u001b[0m \u001b[0;32mexcept\u001b[0m \u001b[0mValueError\u001b[0m\u001b[0;34m:\u001b[0m\u001b[0;34m\u001b[0m\u001b[0;34m\u001b[0m\u001b[0m\n\u001b[1;32m     28\u001b[0m   \u001b[0mprint\u001b[0m\u001b[0;34m(\u001b[0m\u001b[0;34m\"except\"\u001b[0m\u001b[0;34m)\u001b[0m\u001b[0;34m\u001b[0m\u001b[0;34m\u001b[0m\u001b[0m\n",
            "\u001b[0;31mZeroDivisionError\u001b[0m: division by zero"
          ]
        }
      ]
    },
    {
      "cell_type": "code",
      "metadata": {
        "id": "Zzf48qSuZqhe",
        "colab_type": "code",
        "colab": {}
      },
      "source": [
        "There is some situation where finally block will not get exceuted.\n",
        "If PVM will get shutdown. \n",
        "PVM can be shutdown using os._exit(0)."
      ],
      "execution_count": 0,
      "outputs": []
    },
    {
      "cell_type": "code",
      "metadata": {
        "id": "WfLiINcvZqde",
        "colab_type": "code",
        "outputId": "8285c113-718e-4dd7-e89d-11a86d4fc6e9",
        "colab": {
          "base_uri": "https://localhost:8080/",
          "height": 51
        }
      },
      "source": [
        "import os\n",
        "try:\n",
        "  print(\"try\")\n",
        "  #os._exit(0)\n",
        "except ValueError:\n",
        "  print(\"except\")\n",
        "finally:\n",
        "  print(\"finally\")"
      ],
      "execution_count": 0,
      "outputs": [
        {
          "output_type": "stream",
          "text": [
            "try\n",
            "finally\n"
          ],
          "name": "stdout"
        }
      ]
    },
    {
      "cell_type": "code",
      "metadata": {
        "id": "sME3qRfZZqZj",
        "colab_type": "code",
        "colab": {}
      },
      "source": [
        "# Control Flow in try-except-finally\n",
        "try:\n",
        "  stmt1\n",
        "  stmt2\n",
        "  stmt3\n",
        "except:\n",
        "  stmt4\n",
        "finally:\n",
        "  stmt5\n",
        "stmt6\n",
        "\n",
        "\n",
        "case 1: If no exception - 1,2,3,5,6 NT\n",
        "case 2: If exception raised at 2 and matched except block is available -1,4,5,6 NT\n",
        "case 3: If exception raised at 2 and matched except block is not available -1,5 AT\n",
        "case 4: If exception raised at 4 then it is always AT but before AT stmt5 will be excuted.\n",
        "case 5:If exception raised at 5 or 6 then it is always AT.  \n",
        "\n",
        "\n",
        "\n",
        "try:\n",
        "  print(\"Outer try block\")\n",
        "  try:\n",
        "    print(\"Inner try block\")\n",
        "    print(10/0)\n",
        "  except ZeroDivisionError:\n",
        "    print(\"Inner except block\")\n",
        "  finally:\n",
        "    print(\"Inner finally block\")\n",
        "except:\n",
        "  print(\"Outer except block\")\n",
        "finally:\n",
        "  print(\"Outer finally block\")\n",
        "\n",
        "O/P - Outer try block\n",
        "      Inner try block\n",
        "      Inner except block\n",
        "      Inner finally block\n",
        "      Outer finally block\n",
        "\n",
        "Note: If inner will not be able to handle exception then outer except will get chance to handle it."
      ],
      "execution_count": 0,
      "outputs": []
    },
    {
      "cell_type": "code",
      "metadata": {
        "id": "0308QKedG27m",
        "colab_type": "code",
        "colab": {
          "base_uri": "https://localhost:8080/",
          "height": 102
        },
        "outputId": "e2ffc4df-a85e-4d15-bb59-10f2bfef617d"
      },
      "source": [
        "try:\n",
        "  print(\"Outer try block\")\n",
        "  try:\n",
        "    print(\"Inner try block\")\n",
        "    print(10/0)\n",
        "  except ZeroDivisionError:\n",
        "    print(\"Inner except block\")\n",
        "  finally:\n",
        "    print(\"Inner finally block\")\n",
        "except:\n",
        "  print(\"Outer except block\")\n",
        "finally:\n",
        "  print(\"Outer finally block\")"
      ],
      "execution_count": 2,
      "outputs": [
        {
          "output_type": "stream",
          "text": [
            "Outer try block\n",
            "Inner try block\n",
            "Inner except block\n",
            "Inner finally block\n",
            "Outer finally block\n"
          ],
          "name": "stdout"
        }
      ]
    },
    {
      "cell_type": "code",
      "metadata": {
        "id": "dkYCAhNNZqXE",
        "colab_type": "code",
        "colab": {}
      },
      "source": [
        "try:\n",
        "  stmt1\n",
        "  stmt2\n",
        "  stmt3\n",
        "  try:\n",
        "    stmt4\n",
        "    stmt5\n",
        "    stmt6\n",
        "  except:\n",
        "    stmt7\n",
        "  finally:\n",
        "    stmt8\n",
        "  stmt9\n",
        "except yyy:\n",
        "  stmt10\n",
        "finally:\n",
        "  stmt11\n",
        "stmt12\n",
        "\n",
        "If there is no exception - 1,2,3,4,5,6,8,9,11,12 NT\n",
        "If there is exception at 2 and corresponding except block matched - 1,10,11,12 NT\n",
        "If there is exception at 2 and corresponding except block not matched - 1,11 AT\n",
        "If there is exception at 5 and corresponding except block matched - 1,2,3,4,7,8,9,11,12 NT\n",
        "If there is exception at 5 and corresponding except block not matched - 1,2,3,4,8,10,11,12 NT\n",
        "If there is exception at 5 and both inner and outer except block not matched - 1,2,3,4,8,11 AT\n",
        "If there is exception at 7 and corresponding except block matched - 1,2,3,not even 4 or 4 or 4 and 5,8,10,11,12 NT  \n",
        "If there is exception at 7 and corresponding except block matched - 1,2,3,not even 4 or 4 or 4 and 5,8,11 AT\n",
        "If there is exception at 8 and corresponding except matched - 1,2,3, *,*,*,*,10,11,12\n",
        "If there is exception at 8 and corresponding except not matched - 1,2,3, *,*,*,*,11 AT\n",
        "If there is exception at 9 and corresponding except not matched - 1,2,3,*,*,*,*,8,10,11,12 NT\n",
        "If there is exception at 10 and corresponding except not matched - *,*,*,*,*,*,*,*,11 AT\n",
        "If there is exception at 11 or 12 - *,*,*,*,*,*,*,*,*,*,AT"
      ],
      "execution_count": 0,
      "outputs": []
    },
    {
      "cell_type": "code",
      "metadata": {
        "id": "s5qH48rXZqTT",
        "colab_type": "code",
        "colab": {}
      },
      "source": [
        "# Else block\n",
        "try:\n",
        "  risky code:\n",
        "except:\n",
        "  handling code:\n",
        "else:\n",
        "  It will be excute if no exception raised.\n",
        "finally:\n",
        "  It will be excute if exception raised or not exception raised."
      ],
      "execution_count": 0,
      "outputs": []
    },
    {
      "cell_type": "code",
      "metadata": {
        "id": "4mltvwUYZqP5",
        "colab_type": "code",
        "outputId": "df5944f3-402f-4f61-e8b6-7cb7f5538142",
        "colab": {
          "base_uri": "https://localhost:8080/",
          "height": 68
        }
      },
      "source": [
        "try:\n",
        "  print(\"try\")\n",
        "  #print(10/0)\n",
        "except:\n",
        "  print(\"except\")\n",
        "else:\n",
        "  print(\"else\")\n",
        "finally:\n",
        "  print(\"finally\")"
      ],
      "execution_count": 0,
      "outputs": [
        {
          "output_type": "stream",
          "text": [
            "try\n",
            "else\n",
            "finally\n"
          ],
          "name": "stdout"
        }
      ]
    },
    {
      "cell_type": "code",
      "metadata": {
        "id": "vsRWzqEaZqNj",
        "colab_type": "code",
        "outputId": "bb1e4670-4544-40d1-ed89-32b4d4932bf6",
        "colab": {
          "base_uri": "https://localhost:8080/",
          "height": 68
        }
      },
      "source": [
        "try:\n",
        "  print(\"try\")\n",
        "  print(10/0)\n",
        "except:\n",
        "  print(\"except\")\n",
        "else:\n",
        "  print(\"else\")\n",
        "finally:\n",
        "  print(\"finally\")"
      ],
      "execution_count": 0,
      "outputs": [
        {
          "output_type": "stream",
          "text": [
            "try\n",
            "except\n",
            "finally\n"
          ],
          "name": "stdout"
        }
      ]
    },
    {
      "cell_type": "code",
      "metadata": {
        "id": "VP_nH8USZqK5",
        "colab_type": "code",
        "colab": {}
      },
      "source": [
        "# Various possible combinations of try-except-else-finally blocks"
      ],
      "execution_count": 0,
      "outputs": []
    },
    {
      "cell_type": "code",
      "metadata": {
        "id": "5VnLrRWZZqHS",
        "colab_type": "code",
        "outputId": "32654e66-3bba-4cdb-e555-680faf2ae33b",
        "colab": {
          "base_uri": "https://localhost:8080/",
          "height": 129
        }
      },
      "source": [
        "try:\n",
        "  print(\"try\")"
      ],
      "execution_count": 0,
      "outputs": [
        {
          "output_type": "error",
          "ename": "SyntaxError",
          "evalue": "ignored",
          "traceback": [
            "\u001b[0;36m  File \u001b[0;32m\"<ipython-input-7-ddb4380daddf>\"\u001b[0;36m, line \u001b[0;32m2\u001b[0m\n\u001b[0;31m    print(\"try\")\u001b[0m\n\u001b[0m                ^\u001b[0m\n\u001b[0;31mSyntaxError\u001b[0m\u001b[0;31m:\u001b[0m unexpected EOF while parsing\n"
          ]
        }
      ]
    },
    {
      "cell_type": "code",
      "metadata": {
        "id": "yW6tEupgZqEF",
        "colab_type": "code",
        "outputId": "b17ba9bf-a378-43e0-f329-0d8def82572e",
        "colab": {
          "base_uri": "https://localhost:8080/",
          "height": 129
        }
      },
      "source": [
        "except:\n",
        "  print(\"except\")"
      ],
      "execution_count": 0,
      "outputs": [
        {
          "output_type": "error",
          "ename": "SyntaxError",
          "evalue": "ignored",
          "traceback": [
            "\u001b[0;36m  File \u001b[0;32m\"<ipython-input-9-21e6ca363257>\"\u001b[0;36m, line \u001b[0;32m1\u001b[0m\n\u001b[0;31m    except:\u001b[0m\n\u001b[0m         ^\u001b[0m\n\u001b[0;31mSyntaxError\u001b[0m\u001b[0;31m:\u001b[0m invalid syntax\n"
          ]
        }
      ]
    },
    {
      "cell_type": "code",
      "metadata": {
        "id": "LgRfyqh5ZqAv",
        "colab_type": "code",
        "outputId": "b7dceccb-0179-4a07-9704-bd8e88fc745a",
        "colab": {
          "base_uri": "https://localhost:8080/",
          "height": 129
        }
      },
      "source": [
        "else:\n",
        "  print(\"else\")"
      ],
      "execution_count": 0,
      "outputs": [
        {
          "output_type": "error",
          "ename": "SyntaxError",
          "evalue": "ignored",
          "traceback": [
            "\u001b[0;36m  File \u001b[0;32m\"<ipython-input-12-1586ffedfcb2>\"\u001b[0;36m, line \u001b[0;32m1\u001b[0m\n\u001b[0;31m    else:\u001b[0m\n\u001b[0m       ^\u001b[0m\n\u001b[0;31mSyntaxError\u001b[0m\u001b[0;31m:\u001b[0m invalid syntax\n"
          ]
        }
      ]
    },
    {
      "cell_type": "code",
      "metadata": {
        "id": "-F0hPEdMZp-W",
        "colab_type": "code",
        "outputId": "51b24d05-0a8f-4027-bc90-533570d6457c",
        "colab": {
          "base_uri": "https://localhost:8080/",
          "height": 129
        }
      },
      "source": [
        "finally:\n",
        "  print(\"finally\")"
      ],
      "execution_count": 0,
      "outputs": [
        {
          "output_type": "error",
          "ename": "SyntaxError",
          "evalue": "ignored",
          "traceback": [
            "\u001b[0;36m  File \u001b[0;32m\"<ipython-input-11-b9507cebf4db>\"\u001b[0;36m, line \u001b[0;32m1\u001b[0m\n\u001b[0;31m    finally:\u001b[0m\n\u001b[0m          ^\u001b[0m\n\u001b[0;31mSyntaxError\u001b[0m\u001b[0;31m:\u001b[0m invalid syntax\n"
          ]
        }
      ]
    },
    {
      "cell_type": "code",
      "metadata": {
        "id": "YmE7ljS5Zp6n",
        "colab_type": "code",
        "outputId": "a47efa9e-7a06-4839-e332-f218b5917452",
        "colab": {
          "base_uri": "https://localhost:8080/",
          "height": 34
        }
      },
      "source": [
        "try:\n",
        "  print(\"try\")\n",
        "except:\n",
        "  printf(\"except\")"
      ],
      "execution_count": 0,
      "outputs": [
        {
          "output_type": "stream",
          "text": [
            "try\n"
          ],
          "name": "stdout"
        }
      ]
    },
    {
      "cell_type": "code",
      "metadata": {
        "id": "es_quHmQZp3h",
        "colab_type": "code",
        "outputId": "269793ca-fcd0-4e18-c4df-56b2abcb6b2c",
        "colab": {
          "base_uri": "https://localhost:8080/",
          "height": 51
        }
      },
      "source": [
        "try:\n",
        "  print(\"try\")\n",
        "finally:\n",
        "  print(\"finally\")"
      ],
      "execution_count": 0,
      "outputs": [
        {
          "output_type": "stream",
          "text": [
            "try\n",
            "finally\n"
          ],
          "name": "stdout"
        }
      ]
    },
    {
      "cell_type": "code",
      "metadata": {
        "id": "cW7PRyf6Zpzl",
        "colab_type": "code",
        "outputId": "48772965-9584-4f48-d2b8-ceb26abd40e6",
        "colab": {
          "base_uri": "https://localhost:8080/",
          "height": 265
        }
      },
      "source": [
        "try:\n",
        "  print(\"try\")\n",
        "  print(10/0)\n",
        "finally:\n",
        "  print(\"finally\")"
      ],
      "execution_count": 0,
      "outputs": [
        {
          "output_type": "stream",
          "text": [
            "try\n",
            "finally\n"
          ],
          "name": "stdout"
        },
        {
          "output_type": "error",
          "ename": "ZeroDivisionError",
          "evalue": "ignored",
          "traceback": [
            "\u001b[0;31m---------------------------------------------------------------------------\u001b[0m",
            "\u001b[0;31mZeroDivisionError\u001b[0m                         Traceback (most recent call last)",
            "\u001b[0;32m<ipython-input-17-c367ad47b9b5>\u001b[0m in \u001b[0;36m<module>\u001b[0;34m()\u001b[0m\n\u001b[1;32m      1\u001b[0m \u001b[0;32mtry\u001b[0m\u001b[0;34m:\u001b[0m\u001b[0;34m\u001b[0m\u001b[0;34m\u001b[0m\u001b[0m\n\u001b[1;32m      2\u001b[0m   \u001b[0mprint\u001b[0m\u001b[0;34m(\u001b[0m\u001b[0;34m\"try\"\u001b[0m\u001b[0;34m)\u001b[0m\u001b[0;34m\u001b[0m\u001b[0;34m\u001b[0m\u001b[0m\n\u001b[0;32m----> 3\u001b[0;31m   \u001b[0mprint\u001b[0m\u001b[0;34m(\u001b[0m\u001b[0;36m10\u001b[0m\u001b[0;34m/\u001b[0m\u001b[0;36m0\u001b[0m\u001b[0;34m)\u001b[0m\u001b[0;34m\u001b[0m\u001b[0;34m\u001b[0m\u001b[0m\n\u001b[0m\u001b[1;32m      4\u001b[0m \u001b[0;32mfinally\u001b[0m\u001b[0;34m:\u001b[0m\u001b[0;34m\u001b[0m\u001b[0;34m\u001b[0m\u001b[0m\n\u001b[1;32m      5\u001b[0m   \u001b[0mprint\u001b[0m\u001b[0;34m(\u001b[0m\u001b[0;34m\"finally\"\u001b[0m\u001b[0;34m)\u001b[0m\u001b[0;34m\u001b[0m\u001b[0;34m\u001b[0m\u001b[0m\n",
            "\u001b[0;31mZeroDivisionError\u001b[0m: division by zero"
          ]
        }
      ]
    },
    {
      "cell_type": "code",
      "metadata": {
        "id": "IRsscryDZpwk",
        "colab_type": "code",
        "outputId": "cd96463a-bb6f-4574-92ef-2bf61ca95d7f",
        "colab": {
          "base_uri": "https://localhost:8080/",
          "height": 51
        }
      },
      "source": [
        "try:\n",
        "  print(\"try\")\n",
        "except:\n",
        "  print(\"except\")\n",
        "else:\n",
        "  print(\"else\")"
      ],
      "execution_count": 0,
      "outputs": [
        {
          "output_type": "stream",
          "text": [
            "try\n",
            "else\n"
          ],
          "name": "stdout"
        }
      ]
    },
    {
      "cell_type": "code",
      "metadata": {
        "id": "2ryg0Mi8ZptD",
        "colab_type": "code",
        "outputId": "dbf26835-8237-4cc9-80ac-8582fada6bd6",
        "colab": {
          "base_uri": "https://localhost:8080/",
          "height": 129
        }
      },
      "source": [
        "try:\n",
        "  print(\"try\")\n",
        "else:\n",
        "  print(\"else\")"
      ],
      "execution_count": 0,
      "outputs": [
        {
          "output_type": "error",
          "ename": "SyntaxError",
          "evalue": "ignored",
          "traceback": [
            "\u001b[0;36m  File \u001b[0;32m\"<ipython-input-19-1ee5d9cf7783>\"\u001b[0;36m, line \u001b[0;32m3\u001b[0m\n\u001b[0;31m    else:\u001b[0m\n\u001b[0m       ^\u001b[0m\n\u001b[0;31mSyntaxError\u001b[0m\u001b[0;31m:\u001b[0m invalid syntax\n"
          ]
        }
      ]
    },
    {
      "cell_type": "code",
      "metadata": {
        "id": "xdCRinHCZppU",
        "colab_type": "code",
        "outputId": "40fe19d3-be69-49eb-ca8e-f566c261fa88",
        "colab": {
          "base_uri": "https://localhost:8080/",
          "height": 51
        }
      },
      "source": [
        "try:\n",
        "  print(\"try\")\n",
        "except:\n",
        "  print(\"except\")\n",
        "else:\n",
        "  print(\"else\")"
      ],
      "execution_count": 0,
      "outputs": [
        {
          "output_type": "stream",
          "text": [
            "try\n",
            "else\n"
          ],
          "name": "stdout"
        }
      ]
    },
    {
      "cell_type": "code",
      "metadata": {
        "id": "EvbB14xBZpm2",
        "colab_type": "code",
        "outputId": "5fe720bb-6ae3-4c2e-aeaf-1b61ce50e2cf",
        "colab": {
          "base_uri": "https://localhost:8080/",
          "height": 129
        }
      },
      "source": [
        "try:\n",
        "  print(\"try\")\n",
        "else:\n",
        "  print(\"else\")\n",
        "finally:\n",
        "  print(\"finally\")"
      ],
      "execution_count": 0,
      "outputs": [
        {
          "output_type": "error",
          "ename": "SyntaxError",
          "evalue": "ignored",
          "traceback": [
            "\u001b[0;36m  File \u001b[0;32m\"<ipython-input-21-a6ad8e534ff9>\"\u001b[0;36m, line \u001b[0;32m3\u001b[0m\n\u001b[0;31m    else:\u001b[0m\n\u001b[0m       ^\u001b[0m\n\u001b[0;31mSyntaxError\u001b[0m\u001b[0;31m:\u001b[0m invalid syntax\n"
          ]
        }
      ]
    },
    {
      "cell_type": "code",
      "metadata": {
        "id": "ymF-ZYywcfFV",
        "colab_type": "code",
        "colab": {}
      },
      "source": [
        "try:\n",
        "  print(\"try\")\n",
        "except xxx:\n",
        "  print(\"xxx\")\n",
        "except yyy:\n",
        "  print(\"yyy\")\n",
        "# Valid"
      ],
      "execution_count": 0,
      "outputs": []
    },
    {
      "cell_type": "code",
      "metadata": {
        "id": "wKkG6EtGZpjD",
        "colab_type": "code",
        "outputId": "17851c7e-19e4-4f6b-c913-62450e8e7478",
        "colab": {
          "base_uri": "https://localhost:8080/",
          "height": 51
        }
      },
      "source": [
        "try:\n",
        "  print(\"try\")\n",
        "except xxx:\n",
        "  print(\"xxx\")\n",
        "else:\n",
        "  print(\"yyy\")"
      ],
      "execution_count": 0,
      "outputs": [
        {
          "output_type": "stream",
          "text": [
            "try\n",
            "yyy\n"
          ],
          "name": "stdout"
        }
      ]
    },
    {
      "cell_type": "code",
      "metadata": {
        "id": "mMmIjqcdZpf6",
        "colab_type": "code",
        "outputId": "ca8b3e5b-2e60-44f8-d909-40ba644406ce",
        "colab": {
          "base_uri": "https://localhost:8080/",
          "height": 129
        }
      },
      "source": [
        "try:\n",
        "  print(\"try\")\n",
        "except xxx:\n",
        "  print(\"xxx\")\n",
        "else:\n",
        "  print(\"yyy\")\n",
        "else:\n",
        "  print(\"zzz\")"
      ],
      "execution_count": 0,
      "outputs": [
        {
          "output_type": "error",
          "ename": "SyntaxError",
          "evalue": "ignored",
          "traceback": [
            "\u001b[0;36m  File \u001b[0;32m\"<ipython-input-24-08e19ee228dc>\"\u001b[0;36m, line \u001b[0;32m7\u001b[0m\n\u001b[0;31m    else:\u001b[0m\n\u001b[0m       ^\u001b[0m\n\u001b[0;31mSyntaxError\u001b[0m\u001b[0;31m:\u001b[0m invalid syntax\n"
          ]
        }
      ]
    },
    {
      "cell_type": "code",
      "metadata": {
        "id": "uG8dNFsgZpdo",
        "colab_type": "code",
        "colab": {
          "base_uri": "https://localhost:8080/",
          "height": 129
        },
        "outputId": "dec9cbdf-b907-4064-b61b-8bf2a4f10320"
      },
      "source": [
        "try:\n",
        "  print(\"try\")\n",
        "except xxx:\n",
        "  print(\"xxx\")\n",
        "finally:\n",
        "  print(\"yyy\")\n",
        "finally:\n",
        "  print(\"zzz\")"
      ],
      "execution_count": 3,
      "outputs": [
        {
          "output_type": "error",
          "ename": "SyntaxError",
          "evalue": "ignored",
          "traceback": [
            "\u001b[0;36m  File \u001b[0;32m\"<ipython-input-3-1da226eed95b>\"\u001b[0;36m, line \u001b[0;32m7\u001b[0m\n\u001b[0;31m    finally:\u001b[0m\n\u001b[0m          ^\u001b[0m\n\u001b[0;31mSyntaxError\u001b[0m\u001b[0;31m:\u001b[0m invalid syntax\n"
          ]
        }
      ]
    },
    {
      "cell_type": "code",
      "metadata": {
        "id": "AUPyKVaZZpZi",
        "colab_type": "code",
        "colab": {
          "base_uri": "https://localhost:8080/",
          "height": 129
        },
        "outputId": "08c6df4d-7ce8-4cca-ddde-3bc03d6690e0"
      },
      "source": [
        "try:\n",
        "  print(\"try\")\n",
        "print(\"Hello\")\n",
        "except:\n",
        "  print(\"except\")"
      ],
      "execution_count": 4,
      "outputs": [
        {
          "output_type": "error",
          "ename": "SyntaxError",
          "evalue": "ignored",
          "traceback": [
            "\u001b[0;36m  File \u001b[0;32m\"<ipython-input-4-7977c02fbe3f>\"\u001b[0;36m, line \u001b[0;32m3\u001b[0m\n\u001b[0;31m    print(\"Hello\")\u001b[0m\n\u001b[0m        ^\u001b[0m\n\u001b[0;31mSyntaxError\u001b[0m\u001b[0;31m:\u001b[0m invalid syntax\n"
          ]
        }
      ]
    },
    {
      "cell_type": "code",
      "metadata": {
        "id": "9NS_fGgwZpWU",
        "colab_type": "code",
        "colab": {
          "base_uri": "https://localhost:8080/",
          "height": 129
        },
        "outputId": "c52b03a7-30d4-4fbb-f337-4672bfbed137"
      },
      "source": [
        "try:\n",
        "  print(\"try\")\n",
        "except:\n",
        "  print(\"except\")\n",
        "print(\"Hello\")\n",
        "finally:\n",
        "  print(\"finally\")"
      ],
      "execution_count": 5,
      "outputs": [
        {
          "output_type": "error",
          "ename": "SyntaxError",
          "evalue": "ignored",
          "traceback": [
            "\u001b[0;36m  File \u001b[0;32m\"<ipython-input-5-3a908fe0edbe>\"\u001b[0;36m, line \u001b[0;32m6\u001b[0m\n\u001b[0;31m    finally:\u001b[0m\n\u001b[0m          ^\u001b[0m\n\u001b[0;31mSyntaxError\u001b[0m\u001b[0;31m:\u001b[0m invalid syntax\n"
          ]
        }
      ]
    },
    {
      "cell_type": "code",
      "metadata": {
        "id": "_qCC9SP6ZpTw",
        "colab_type": "code",
        "colab": {
          "base_uri": "https://localhost:8080/",
          "height": 129
        },
        "outputId": "9ea960ed-156c-43fe-dfae-2716b81787ba"
      },
      "source": [
        "try:\n",
        "  print(\"try\")\n",
        "except:\n",
        "  print(\"except\")\n",
        "else:\n",
        "  print(\"else\")\n",
        "print(\"Hello\")\n",
        "finally:\n",
        "  print(\"finally\")"
      ],
      "execution_count": 6,
      "outputs": [
        {
          "output_type": "error",
          "ename": "SyntaxError",
          "evalue": "ignored",
          "traceback": [
            "\u001b[0;36m  File \u001b[0;32m\"<ipython-input-6-66ca0b88f3be>\"\u001b[0;36m, line \u001b[0;32m8\u001b[0m\n\u001b[0;31m    finally:\u001b[0m\n\u001b[0m          ^\u001b[0m\n\u001b[0;31mSyntaxError\u001b[0m\u001b[0;31m:\u001b[0m invalid syntax\n"
          ]
        }
      ]
    },
    {
      "cell_type": "code",
      "metadata": {
        "id": "of5oE4VIZpQI",
        "colab_type": "code",
        "colab": {
          "base_uri": "https://localhost:8080/",
          "height": 129
        },
        "outputId": "ffdca432-e521-4cd1-a111-a09cb2f26ad1"
      },
      "source": [
        "try:\n",
        "  print(\"try\")\n",
        "except:\n",
        "  print(\"except\")\n",
        "print(\"Hello\")\n",
        "except:\n",
        "  print(\"except\")"
      ],
      "execution_count": 7,
      "outputs": [
        {
          "output_type": "error",
          "ename": "SyntaxError",
          "evalue": "ignored",
          "traceback": [
            "\u001b[0;36m  File \u001b[0;32m\"<ipython-input-7-133d1ec4374e>\"\u001b[0;36m, line \u001b[0;32m6\u001b[0m\n\u001b[0;31m    except:\u001b[0m\n\u001b[0m         ^\u001b[0m\n\u001b[0;31mSyntaxError\u001b[0m\u001b[0;31m:\u001b[0m invalid syntax\n"
          ]
        }
      ]
    },
    {
      "cell_type": "code",
      "metadata": {
        "id": "uWnEr_E6Zo_c",
        "colab_type": "code",
        "colab": {
          "base_uri": "https://localhost:8080/",
          "height": 51
        },
        "outputId": "e16cec1d-3544-4923-d0d5-762c55210472"
      },
      "source": [
        "try:\n",
        "  print(\"try\")\n",
        "except:\n",
        "  print(\"except\")\n",
        "try:\n",
        "  print(\"try\")\n",
        "except:\n",
        "  print(\"except\")"
      ],
      "execution_count": 8,
      "outputs": [
        {
          "output_type": "stream",
          "text": [
            "try\n",
            "try\n"
          ],
          "name": "stdout"
        }
      ]
    },
    {
      "cell_type": "code",
      "metadata": {
        "id": "DC0WTFwRZovN",
        "colab_type": "code",
        "colab": {
          "base_uri": "https://localhost:8080/",
          "height": 68
        },
        "outputId": "e7e4fee1-ccd7-4960-8c51-ff2da259f4db"
      },
      "source": [
        "try:\n",
        "  print(\"try\")\n",
        "except:\n",
        "  print(\"except\")\n",
        "try:\n",
        "  print(\"try\")\n",
        "finally:\n",
        "  print(\"inally\")"
      ],
      "execution_count": 10,
      "outputs": [
        {
          "output_type": "stream",
          "text": [
            "try\n",
            "try\n",
            "inally\n"
          ],
          "name": "stdout"
        }
      ]
    },
    {
      "cell_type": "code",
      "metadata": {
        "id": "Zn2P8D5vZotF",
        "colab_type": "code",
        "colab": {
          "base_uri": "https://localhost:8080/",
          "height": 51
        },
        "outputId": "a75e1781-a02b-4786-d541-47fdef407ff5"
      },
      "source": [
        "try:\n",
        "  print(\"try\")\n",
        "except:\n",
        "  print(\"except\")\n",
        "if 10>20:\n",
        "  print(\"If\")\n",
        "else:\n",
        "  print(\"else\")"
      ],
      "execution_count": 11,
      "outputs": [
        {
          "output_type": "stream",
          "text": [
            "try\n",
            "else\n"
          ],
          "name": "stdout"
        }
      ]
    },
    {
      "cell_type": "code",
      "metadata": {
        "id": "2jJvdFgtZopR",
        "colab_type": "code",
        "colab": {
          "base_uri": "https://localhost:8080/",
          "height": 68
        },
        "outputId": "e6435568-584e-437f-ff35-a22c93b9939b"
      },
      "source": [
        "try:\n",
        "  print(\"try\")\n",
        "finally:\n",
        "  print(\"finally\")\n",
        "if 10>20:\n",
        "  print(\"If\")\n",
        "else:\n",
        "  print(\"else\")"
      ],
      "execution_count": 12,
      "outputs": [
        {
          "output_type": "stream",
          "text": [
            "try\n",
            "finally\n",
            "else\n"
          ],
          "name": "stdout"
        }
      ]
    },
    {
      "cell_type": "code",
      "metadata": {
        "id": "zCTvzYr4Zomz",
        "colab_type": "code",
        "colab": {}
      },
      "source": [
        "Try block complusory need either except or finally or both block.\n",
        "Except without try is invalid.\n",
        "finally without try is invalid\n",
        "we can take mutiple except for the same try but only one finally allowed\n",
        "else without except is invalid\n",
        "try-except-else-finally order is important.\n",
        "we can take try-except-else-finally in try,except,else,finally blocks.\n",
        "Nesting of  try-except-else-finally  is possible."
      ],
      "execution_count": 0,
      "outputs": []
    },
    {
      "cell_type": "code",
      "metadata": {
        "id": "gWGSF8oWZojq",
        "colab_type": "code",
        "colab": {}
      },
      "source": [
        "Types of exceptions:\n",
        "  Predefined Exception(ValueError,ZeroDivideError,TypeError,ArithmeticError,IndexError... etc.)\n",
        "  Userdefined Exception"
      ],
      "execution_count": 0,
      "outputs": []
    },
    {
      "cell_type": "code",
      "metadata": {
        "id": "NnvJv2YbZohD",
        "colab_type": "code",
        "colab": {}
      },
      "source": [
        "#Userdefined Exception\n",
        "#How to define and raise user defined exception\n",
        "class classname(parent):\n",
        "  def __init__(self,arg):\n",
        "    self.msg=arg"
      ],
      "execution_count": 0,
      "outputs": []
    },
    {
      "cell_type": "code",
      "metadata": {
        "id": "RSWnBuh_ZodG",
        "colab_type": "code",
        "colab": {}
      },
      "source": [
        "class TooYoungException(Exception):\n",
        "  def __init__(self,arg):\n",
        "    self.msg=arg"
      ],
      "execution_count": 0,
      "outputs": []
    },
    {
      "cell_type": "code",
      "metadata": {
        "id": "0FrCLBdAZoa9",
        "colab_type": "code",
        "colab": {
          "base_uri": "https://localhost:8080/",
          "height": 248
        },
        "outputId": "4263fea5-5d8c-492b-b248-b1ae0e6be489"
      },
      "source": [
        "age=int(input(\"Enter age\"))\n",
        "if age<18:\n",
        "  raise TooYoungException(\"You are too young.\")\n",
        "elif age>60:\n",
        "  raise TooYoungException(\"You are too old.\")\n",
        "else:\n",
        "  print(\"Thanks for registration.\")"
      ],
      "execution_count": 14,
      "outputs": [
        {
          "output_type": "stream",
          "text": [
            "Enter age65\n"
          ],
          "name": "stdout"
        },
        {
          "output_type": "error",
          "ename": "TooYoungException",
          "evalue": "ignored",
          "traceback": [
            "\u001b[0;31m---------------------------------------------------------------------------\u001b[0m",
            "\u001b[0;31mTooYoungException\u001b[0m                         Traceback (most recent call last)",
            "\u001b[0;32m<ipython-input-14-2da5f8204902>\u001b[0m in \u001b[0;36m<module>\u001b[0;34m()\u001b[0m\n\u001b[1;32m      3\u001b[0m   \u001b[0;32mraise\u001b[0m \u001b[0mTooYoungException\u001b[0m\u001b[0;34m(\u001b[0m\u001b[0;34m\"You are too young.\"\u001b[0m\u001b[0;34m)\u001b[0m\u001b[0;34m\u001b[0m\u001b[0;34m\u001b[0m\u001b[0m\n\u001b[1;32m      4\u001b[0m \u001b[0;32melif\u001b[0m \u001b[0mage\u001b[0m\u001b[0;34m>\u001b[0m\u001b[0;36m60\u001b[0m\u001b[0;34m:\u001b[0m\u001b[0;34m\u001b[0m\u001b[0;34m\u001b[0m\u001b[0m\n\u001b[0;32m----> 5\u001b[0;31m   \u001b[0;32mraise\u001b[0m \u001b[0mTooYoungException\u001b[0m\u001b[0;34m(\u001b[0m\u001b[0;34m\"You are too old.\"\u001b[0m\u001b[0;34m)\u001b[0m\u001b[0;34m\u001b[0m\u001b[0;34m\u001b[0m\u001b[0m\n\u001b[0m\u001b[1;32m      6\u001b[0m \u001b[0;32melse\u001b[0m\u001b[0;34m:\u001b[0m\u001b[0;34m\u001b[0m\u001b[0;34m\u001b[0m\u001b[0m\n\u001b[1;32m      7\u001b[0m   \u001b[0mprint\u001b[0m\u001b[0;34m(\u001b[0m\u001b[0;34m\"Thanks for registration.\"\u001b[0m\u001b[0;34m)\u001b[0m\u001b[0;34m\u001b[0m\u001b[0;34m\u001b[0m\u001b[0m\n",
            "\u001b[0;31mTooYoungException\u001b[0m: You are too old."
          ]
        }
      ]
    },
    {
      "cell_type": "code",
      "metadata": {
        "id": "WEqtq1QFZoWs",
        "colab_type": "code",
        "colab": {
          "base_uri": "https://localhost:8080/",
          "height": 248
        },
        "outputId": "cb8ba058-2fcc-46fc-9f1c-1a4930a5e738"
      },
      "source": [
        "age=int(input(\"Enter age\"))\n",
        "if age<18:\n",
        "  raise TooYoungException(\"You are too young.\")\n",
        "elif age>60:\n",
        "  raise TooYoungException(\"You are too old.\")\n",
        "else:\n",
        "  print(\"Thanks for registration.\")14"
      ],
      "execution_count": 15,
      "outputs": [
        {
          "output_type": "stream",
          "text": [
            "Enter age14\n"
          ],
          "name": "stdout"
        },
        {
          "output_type": "error",
          "ename": "TooYoungException",
          "evalue": "ignored",
          "traceback": [
            "\u001b[0;31m---------------------------------------------------------------------------\u001b[0m",
            "\u001b[0;31mTooYoungException\u001b[0m                         Traceback (most recent call last)",
            "\u001b[0;32m<ipython-input-15-2da5f8204902>\u001b[0m in \u001b[0;36m<module>\u001b[0;34m()\u001b[0m\n\u001b[1;32m      1\u001b[0m \u001b[0mage\u001b[0m\u001b[0;34m=\u001b[0m\u001b[0mint\u001b[0m\u001b[0;34m(\u001b[0m\u001b[0minput\u001b[0m\u001b[0;34m(\u001b[0m\u001b[0;34m\"Enter age\"\u001b[0m\u001b[0;34m)\u001b[0m\u001b[0;34m)\u001b[0m\u001b[0;34m\u001b[0m\u001b[0;34m\u001b[0m\u001b[0m\n\u001b[1;32m      2\u001b[0m \u001b[0;32mif\u001b[0m \u001b[0mage\u001b[0m\u001b[0;34m<\u001b[0m\u001b[0;36m18\u001b[0m\u001b[0;34m:\u001b[0m\u001b[0;34m\u001b[0m\u001b[0;34m\u001b[0m\u001b[0m\n\u001b[0;32m----> 3\u001b[0;31m   \u001b[0;32mraise\u001b[0m \u001b[0mTooYoungException\u001b[0m\u001b[0;34m(\u001b[0m\u001b[0;34m\"You are too young.\"\u001b[0m\u001b[0;34m)\u001b[0m\u001b[0;34m\u001b[0m\u001b[0;34m\u001b[0m\u001b[0m\n\u001b[0m\u001b[1;32m      4\u001b[0m \u001b[0;32melif\u001b[0m \u001b[0mage\u001b[0m\u001b[0;34m>\u001b[0m\u001b[0;36m60\u001b[0m\u001b[0;34m:\u001b[0m\u001b[0;34m\u001b[0m\u001b[0;34m\u001b[0m\u001b[0m\n\u001b[1;32m      5\u001b[0m   \u001b[0;32mraise\u001b[0m \u001b[0mTooYoungException\u001b[0m\u001b[0;34m(\u001b[0m\u001b[0;34m\"You are too old.\"\u001b[0m\u001b[0;34m)\u001b[0m\u001b[0;34m\u001b[0m\u001b[0;34m\u001b[0m\u001b[0m\n",
            "\u001b[0;31mTooYoungException\u001b[0m: You are too young."
          ]
        }
      ]
    }
  ]
}